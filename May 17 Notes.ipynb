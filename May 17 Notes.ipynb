{
 "cells": [
  {
   "cell_type": "code",
   "execution_count": null,
   "id": "56f44ed0",
   "metadata": {},
   "outputs": [],
   "source": [
    "s[2]\n",
    "s[-1]\n",
    "s[-3]\n",
    "\n"
   ]
  },
  {
   "cell_type": "code",
   "execution_count": 1,
   "id": "77f9c5aa",
   "metadata": {},
   "outputs": [
    {
     "name": "stdout",
     "output_type": "stream",
     "text": [
      "111222\n"
     ]
    }
   ],
   "source": [
    "sa = '111'\n",
    "sb = '222'\n",
    "sc = sa + sb\n",
    "print(sc)"
   ]
  },
  {
   "cell_type": "code",
   "execution_count": 10,
   "id": "ee1a1f9a",
   "metadata": {},
   "outputs": [
    {
     "name": "stdout",
     "output_type": "stream",
     "text": [
      "I bought 2 books for 30 each and paid $60.00.\n"
     ]
    }
   ],
   "source": [
    "num_books = 2\n",
    "price = 30\n",
    "s = f'I bought {num_books} books for {price} each\\\n",
    " and paid ${num_books * price:.2f}.'\n",
    "print(s)"
   ]
  },
  {
   "cell_type": "code",
   "execution_count": 12,
   "id": "fc4ceede",
   "metadata": {},
   "outputs": [
    {
     "name": "stdout",
     "output_type": "stream",
     "text": [
      "['Tom', 'Dick', 'Harry']\n"
     ]
    }
   ],
   "source": [
    "names = ['Tom', 'Dick', 'Harry']\n",
    "print(names)"
   ]
  },
  {
   "cell_type": "code",
   "execution_count": 13,
   "id": "6a5e202d",
   "metadata": {},
   "outputs": [
    {
     "name": "stdout",
     "output_type": "stream",
     "text": [
      "['Tom', 'Dick', 'Harry', 'Susan', 'Alice', 'Beth']\n"
     ]
    }
   ],
   "source": [
    "names2 = ['Susan', 'Alice', 'Beth']\n",
    "namesB = names + names2\n",
    "print(namesB)"
   ]
  },
  {
   "cell_type": "code",
   "execution_count": 14,
   "id": "58f09628",
   "metadata": {},
   "outputs": [
    {
     "name": "stdout",
     "output_type": "stream",
     "text": [
      "None\n",
      "['Tom', 'Dick', 'Harry', ['Susan', 'Alice', 'Beth']]\n"
     ]
    }
   ],
   "source": [
    "namesc = names.append(names2)\n",
    "print(namesc)\n",
    "print(names)"
   ]
  },
  {
   "cell_type": "code",
   "execution_count": 15,
   "id": "e69f9b59",
   "metadata": {},
   "outputs": [
    {
     "name": "stdout",
     "output_type": "stream",
     "text": [
      "4\n"
     ]
    }
   ],
   "source": [
    "print(len(names))"
   ]
  },
  {
   "cell_type": "code",
   "execution_count": 16,
   "id": "f1233f58",
   "metadata": {},
   "outputs": [
    {
     "name": "stdout",
     "output_type": "stream",
     "text": [
      "(1, 2, 3)\n",
      "(1, 2, 3)\n"
     ]
    }
   ],
   "source": [
    "t1 = 1,2,3\n",
    "t2 = (1,2,3)\n",
    "print(t1)\n",
    "print(t2)"
   ]
  },
  {
   "cell_type": "code",
   "execution_count": 17,
   "id": "d03d13e4",
   "metadata": {},
   "outputs": [
    {
     "name": "stdout",
     "output_type": "stream",
     "text": [
      "1\n",
      "3\n"
     ]
    }
   ],
   "source": [
    "x = t1[0]\n",
    "print(x)\n",
    "\n",
    "z = t1[-1]\n",
    "print(z)"
   ]
  },
  {
   "cell_type": "code",
   "execution_count": 18,
   "id": "cb074b36",
   "metadata": {},
   "outputs": [
    {
     "ename": "TypeError",
     "evalue": "'tuple' object does not support item assignment",
     "output_type": "error",
     "traceback": [
      "\u001b[1;31m---------------------------------------------------------------------------\u001b[0m",
      "\u001b[1;31mTypeError\u001b[0m                                 Traceback (most recent call last)",
      "Cell \u001b[1;32mIn[18], line 1\u001b[0m\n\u001b[1;32m----> 1\u001b[0m \u001b[43mt1\u001b[49m\u001b[43m[\u001b[49m\u001b[38;5;241;43m0\u001b[39;49m\u001b[43m]\u001b[49m \u001b[38;5;241m=\u001b[39m \u001b[38;5;241m4\u001b[39m\n\u001b[0;32m      2\u001b[0m \u001b[38;5;28mprint\u001b[39m(t1[\u001b[38;5;241m0\u001b[39m])\n",
      "\u001b[1;31mTypeError\u001b[0m: 'tuple' object does not support item assignment"
     ]
    }
   ],
   "source": [
    "t1[0] = 4\n",
    "print(t1[0])"
   ]
  },
  {
   "cell_type": "code",
   "execution_count": 25,
   "id": "bf3b7217",
   "metadata": {},
   "outputs": [
    {
     "name": "stdout",
     "output_type": "stream",
     "text": [
      "<class 'set'>\n",
      "<class 'list'>\n",
      "<class 'tuple'>\n"
     ]
    }
   ],
   "source": [
    "ASet = {'cat', 'dog', 'parrot'}\n",
    "AList = ['cat', 'dog', 'parrot']\n",
    "ATuple = ('cat', 'dog', 'parrot')\n",
    "\n",
    "print(type(ASet))\n",
    "print(type(AList))\n",
    "print(type(ATuple))"
   ]
  },
  {
   "cell_type": "code",
   "execution_count": 31,
   "id": "a9016f6f",
   "metadata": {},
   "outputs": [
    {
     "ename": "TypeError",
     "evalue": "'set' object is not subscriptable",
     "output_type": "error",
     "traceback": [
      "\u001b[1;31m---------------------------------------------------------------------------\u001b[0m",
      "\u001b[1;31mTypeError\u001b[0m                                 Traceback (most recent call last)",
      "Cell \u001b[1;32mIn[31], line 1\u001b[0m\n\u001b[1;32m----> 1\u001b[0m \u001b[38;5;28mprint\u001b[39m(\u001b[43mASet\u001b[49m\u001b[43m[\u001b[49m\u001b[38;5;241;43m0\u001b[39;49m\u001b[43m]\u001b[49m)\n",
      "\u001b[1;31mTypeError\u001b[0m: 'set' object is not subscriptable"
     ]
    }
   ],
   "source": [
    "print(ASet[0])"
   ]
  },
  {
   "cell_type": "code",
   "execution_count": 27,
   "id": "92e6354f",
   "metadata": {},
   "outputs": [
    {
     "name": "stdout",
     "output_type": "stream",
     "text": [
      "cat\n"
     ]
    }
   ],
   "source": [
    "print(AList[0])"
   ]
  },
  {
   "cell_type": "code",
   "execution_count": 28,
   "id": "87dd08a3",
   "metadata": {},
   "outputs": [
    {
     "name": "stdout",
     "output_type": "stream",
     "text": [
      "cat\n"
     ]
    }
   ],
   "source": [
    "print(ATuple[0])"
   ]
  },
  {
   "cell_type": "code",
   "execution_count": 32,
   "id": "7e23d8c9",
   "metadata": {},
   "outputs": [
    {
     "name": "stdout",
     "output_type": "stream",
     "text": [
      "{'Joe': 175, 'Tom': 190, 'Dick': 150}\n"
     ]
    }
   ],
   "source": [
    "adict = {'Joe': 175, \n",
    "         'Tom': 190, \n",
    "         'Dick': 150}\n",
    "print(adict)"
   ]
  },
  {
   "cell_type": "code",
   "execution_count": 33,
   "id": "aa5d1168",
   "metadata": {},
   "outputs": [
    {
     "name": "stdout",
     "output_type": "stream",
     "text": [
      "{'Joe': 175, 'Tom': 190, 'Dick': 150, 'Harry': 180}\n"
     ]
    }
   ],
   "source": [
    "adict['Harry'] = 180\n",
    "print(adict)"
   ]
  },
  {
   "cell_type": "code",
   "execution_count": 34,
   "id": "55698869",
   "metadata": {},
   "outputs": [
    {
     "name": "stdout",
     "output_type": "stream",
     "text": [
      "{'Tom': 190, 'Dick': 150, 'Harry': 180}\n"
     ]
    }
   ],
   "source": [
    "del adict['Joe']\n",
    "print(adict)"
   ]
  },
  {
   "cell_type": "code",
   "execution_count": 35,
   "id": "a113e431",
   "metadata": {},
   "outputs": [
    {
     "ename": "KeyError",
     "evalue": "0",
     "output_type": "error",
     "traceback": [
      "\u001b[1;31m---------------------------------------------------------------------------\u001b[0m",
      "\u001b[1;31mKeyError\u001b[0m                                  Traceback (most recent call last)",
      "Cell \u001b[1;32mIn[35], line 1\u001b[0m\n\u001b[1;32m----> 1\u001b[0m entry1 \u001b[38;5;241m=\u001b[39m \u001b[43madict\u001b[49m\u001b[43m[\u001b[49m\u001b[38;5;241;43m0\u001b[39;49m\u001b[43m]\u001b[49m\n\u001b[0;32m      2\u001b[0m \u001b[38;5;28mprint\u001b[39m(entry1)\n",
      "\u001b[1;31mKeyError\u001b[0m: 0"
     ]
    }
   ],
   "source": [
    "entry1 = adict[0]\n",
    "print(entry1)"
   ]
  },
  {
   "cell_type": "code",
   "execution_count": 36,
   "id": "5777b1d3",
   "metadata": {},
   "outputs": [
    {
     "name": "stdout",
     "output_type": "stream",
     "text": [
      "150\n"
     ]
    }
   ],
   "source": [
    "print(adict['Dick'])"
   ]
  },
  {
   "cell_type": "code",
   "execution_count": 37,
   "id": "7eced697",
   "metadata": {},
   "outputs": [
    {
     "name": "stdout",
     "output_type": "stream",
     "text": [
      "0b11110011\n"
     ]
    }
   ],
   "source": [
    "print(bin(243))"
   ]
  },
  {
   "cell_type": "code",
   "execution_count": 38,
   "id": "10d791c8",
   "metadata": {},
   "outputs": [
    {
     "data": {
      "text/plain": [
       "'0xf3'"
      ]
     },
     "execution_count": 38,
     "metadata": {},
     "output_type": "execute_result"
    }
   ],
   "source": [
    "hex(243)"
   ]
  },
  {
   "cell_type": "code",
   "execution_count": 39,
   "id": "6860e4d4",
   "metadata": {},
   "outputs": [
    {
     "data": {
      "text/plain": [
       "413"
      ]
     },
     "execution_count": 39,
     "metadata": {},
     "output_type": "execute_result"
    }
   ],
   "source": [
    "int('110011101', 2)"
   ]
  },
  {
   "cell_type": "code",
   "execution_count": 40,
   "id": "d69a4a0c",
   "metadata": {},
   "outputs": [
    {
     "data": {
      "text/plain": [
       "'0x19d'"
      ]
     },
     "execution_count": 40,
     "metadata": {},
     "output_type": "execute_result"
    }
   ],
   "source": [
    "hex(int('110011101', 2))"
   ]
  },
  {
   "cell_type": "code",
   "execution_count": 41,
   "id": "162d33d6",
   "metadata": {},
   "outputs": [
    {
     "name": "stdout",
     "output_type": "stream",
     "text": [
      "413\n"
     ]
    }
   ],
   "source": [
    "print(0x19d)"
   ]
  },
  {
   "cell_type": "code",
   "execution_count": 42,
   "id": "e52c61b4",
   "metadata": {},
   "outputs": [
    {
     "data": {
      "text/plain": [
       "2812"
      ]
     },
     "execution_count": 42,
     "metadata": {},
     "output_type": "execute_result"
    }
   ],
   "source": [
    "int('afc', 16)"
   ]
  },
  {
   "cell_type": "code",
   "execution_count": 43,
   "id": "d97e1f22",
   "metadata": {},
   "outputs": [
    {
     "data": {
      "text/plain": [
       "'0b101011111100'"
      ]
     },
     "execution_count": 43,
     "metadata": {},
     "output_type": "execute_result"
    }
   ],
   "source": [
    "bin(int('afc',16))"
   ]
  },
  {
   "cell_type": "code",
   "execution_count": null,
   "id": "9e0bc514",
   "metadata": {},
   "outputs": [],
   "source": []
  },
  {
   "cell_type": "code",
   "execution_count": null,
   "id": "84725477",
   "metadata": {},
   "outputs": [],
   "source": []
  }
 ],
 "metadata": {
  "kernelspec": {
   "display_name": "Python 3 (ipykernel)",
   "language": "python",
   "name": "python3"
  },
  "language_info": {
   "codemirror_mode": {
    "name": "ipython",
    "version": 3
   },
   "file_extension": ".py",
   "mimetype": "text/x-python",
   "name": "python",
   "nbconvert_exporter": "python",
   "pygments_lexer": "ipython3",
   "version": "3.11.3"
  }
 },
 "nbformat": 4,
 "nbformat_minor": 5
}
