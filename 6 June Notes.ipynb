{
 "cells": [
  {
   "cell_type": "code",
   "execution_count": 1,
   "id": "a4d8b4f0",
   "metadata": {},
   "outputs": [
    {
     "data": {
      "text/plain": [
       "0.8900000000000001"
      ]
     },
     "execution_count": 1,
     "metadata": {},
     "output_type": "execute_result"
    }
   ],
   "source": [
    "def mtg(zy,q1,q2):\n",
    "    quiz = .5 * (q1 + q2)\n",
    "    return .9 * zy + .1 * quiz\n",
    "mtg(.9, .9, .7)"
   ]
  },
  {
   "cell_type": "code",
   "execution_count": 14,
   "id": "ed0c1fc2",
   "metadata": {},
   "outputs": [
    {
     "name": "stdout",
     "output_type": "stream",
     "text": [
      "[1]\n"
     ]
    }
   ],
   "source": [
    "def undup(l):\n",
    "    res = []\n",
    "    for item in l:\n",
    "        if item not in res:\n",
    "            res.append(item)\n",
    "            return res\n",
    "        \n",
    "test_list = [1,2,3,3,4,5,5,5]\n",
    "print(undup(test_list))"
   ]
  },
  {
   "cell_type": "code",
   "execution_count": 13,
   "id": "aafc8ceb",
   "metadata": {},
   "outputs": [
    {
     "name": "stdout",
     "output_type": "stream",
     "text": [
      "[4, 10, 2.5]\n"
     ]
    }
   ],
   "source": [
    "def numres(nl):\n",
    "    sum = 0\n",
    "    for n in nl:\n",
    "        sum = sum + n\n",
    "    mean = sum/len(nl)\n",
    "    return [len(nl),sum, mean]\n",
    "\n",
    "test_list = [1,2,3,4]\n",
    "print(numres(test_list))"
   ]
  },
  {
   "cell_type": "code",
   "execution_count": 16,
   "id": "a6656baf",
   "metadata": {},
   "outputs": [
    {
     "name": "stdout",
     "output_type": "stream",
     "text": [
      "[1, ['a', 'b', ['x', 'y']]]\n"
     ]
    }
   ],
   "source": [
    "xlist = [1,['a','b',['x','y']]]\n",
    "\n",
    "print(xlist)"
   ]
  },
  {
   "cell_type": "code",
   "execution_count": 17,
   "id": "2b19843c",
   "metadata": {},
   "outputs": [
    {
     "name": "stdout",
     "output_type": "stream",
     "text": [
      "1\n"
     ]
    }
   ],
   "source": [
    "print(xlist[0])"
   ]
  },
  {
   "cell_type": "code",
   "execution_count": 20,
   "id": "90049287",
   "metadata": {},
   "outputs": [
    {
     "name": "stdout",
     "output_type": "stream",
     "text": [
      "b\n"
     ]
    }
   ],
   "source": [
    "print(xlist[1][1])"
   ]
  },
  {
   "cell_type": "code",
   "execution_count": 24,
   "id": "6fb2b166",
   "metadata": {},
   "outputs": [
    {
     "name": "stdout",
     "output_type": "stream",
     "text": [
      "y\n"
     ]
    }
   ],
   "source": [
    "print(xlist[1][2][1])"
   ]
  },
  {
   "cell_type": "code",
   "execution_count": 32,
   "id": "cc4de418",
   "metadata": {},
   "outputs": [
    {
     "name": "stdout",
     "output_type": "stream",
     "text": [
      "64\n"
     ]
    }
   ],
   "source": [
    "import random\n",
    "\n",
    "x = random.randint(0, 100)\n",
    "\n",
    "print(x)"
   ]
  },
  {
   "cell_type": "code",
   "execution_count": 33,
   "id": "5719b00a",
   "metadata": {},
   "outputs": [
    {
     "name": "stdout",
     "output_type": "stream",
     "text": [
      "[30, 37, 99, 64, 100, 43, 14, 86, 34, 56, 40, 78, 19, 13, 100, 7, 94, 6, 30, 96]\n"
     ]
    }
   ],
   "source": [
    "randlist = []\n",
    "for i in range(20):\n",
    "    randlist.append(random.randint(0,100))\n",
    "print(randlist)"
   ]
  },
  {
   "cell_type": "code",
   "execution_count": 35,
   "id": "ac714c94",
   "metadata": {},
   "outputs": [
    {
     "name": "stdout",
     "output_type": "stream",
     "text": [
      "[6, 7, 13, 14, 19, 30, 30, 34, 37, 40, 43, 56, 64, 78, 86, 94, 96, 99, 100, 100]\n"
     ]
    }
   ],
   "source": [
    "randlist.sort()\n",
    "print(randlist)"
   ]
  },
  {
   "cell_type": "code",
   "execution_count": 36,
   "id": "9107a00c",
   "metadata": {},
   "outputs": [
    {
     "name": "stdout",
     "output_type": "stream",
     "text": [
      "None\n"
     ]
    }
   ],
   "source": [
    "sorted_list = randlist.sort()\n",
    "print(sorted_list)"
   ]
  },
  {
   "cell_type": "code",
   "execution_count": 37,
   "id": "34277e29",
   "metadata": {},
   "outputs": [
    {
     "name": "stdout",
     "output_type": "stream",
     "text": [
      "None\n",
      "[6, 7, 13, 14, 19, 30, 30, 34, 37, 40, 43, 56, 64, 78, 86, 94, 96, 99, 100, 100, 150]\n"
     ]
    }
   ],
   "source": [
    "bigger = randlist.append(150)\n",
    "print(bigger)\n",
    "print(randlist)"
   ]
  },
  {
   "cell_type": "code",
   "execution_count": 38,
   "id": "8634b43a",
   "metadata": {},
   "outputs": [],
   "source": [
    "def how_many_a_in_li(a,li):\n",
    "    count = 0\n",
    "    for item in li:\n",
    "        if a == item:\n",
    "            count = count + 1\n",
    "    return count"
   ]
  },
  {
   "cell_type": "code",
   "execution_count": 39,
   "id": "88a935fc",
   "metadata": {},
   "outputs": [
    {
     "data": {
      "text/plain": [
       "3"
      ]
     },
     "execution_count": 39,
     "metadata": {},
     "output_type": "execute_result"
    }
   ],
   "source": [
    "test_list = [1,2,2,3,2,4]\n",
    "look_for = 2\n",
    "\n",
    "how_many_a_in_li(look_for,test_list)"
   ]
  },
  {
   "cell_type": "code",
   "execution_count": 40,
   "id": "1170d435",
   "metadata": {},
   "outputs": [
    {
     "name": "stdout",
     "output_type": "stream",
     "text": [
      "4\n"
     ]
    }
   ],
   "source": [
    "s = \"Mary had a little lamb\"\n",
    "print(how_many_a_in_li(\"a\",s))"
   ]
  },
  {
   "cell_type": "code",
   "execution_count": 41,
   "id": "30f781ab",
   "metadata": {},
   "outputs": [
    {
     "name": "stdout",
     "output_type": "stream",
     "text": [
      "[(1, 1), (2, 4), (3, 9), (4, 16), (5, 25), (6, 36), (7, 49), (8, 64), (9, 81), (10, 100)]\n"
     ]
    }
   ],
   "source": [
    "the_list = []\n",
    "for i in range(10):\n",
    "    the_list.append((i + 1, (i + 1) **2))\n",
    "print(the_list)"
   ]
  },
  {
   "cell_type": "code",
   "execution_count": 42,
   "id": "00ebda5d",
   "metadata": {},
   "outputs": [
    {
     "name": "stdout",
     "output_type": "stream",
     "text": [
      "[(1, 3), (4, 6), (7, 7), (8, 11)]\n"
     ]
    }
   ],
   "source": [
    "lol = [[1, 2, 3], [4, 5, 6], [7], [8, 9, 10, 11]]\n",
    "\n",
    "lot = [(lst[0], lst[-1]) for lst in lol]\n",
    "\n",
    "print(lot)"
   ]
  },
  {
   "cell_type": "code",
   "execution_count": 43,
   "id": "c3fbd569",
   "metadata": {},
   "outputs": [
    {
     "name": "stdout",
     "output_type": "stream",
     "text": [
      "Mary*had*a*little*lamb\n"
     ]
    }
   ],
   "source": [
    "string = \"Mary had a little lamb\"\n",
    "replaced_string = \"*\".join(string.split())\n",
    "\n",
    "print(replaced_string)"
   ]
  },
  {
   "cell_type": "code",
   "execution_count": 44,
   "id": "c55cc60b",
   "metadata": {},
   "outputs": [
    {
     "name": "stdout",
     "output_type": "stream",
     "text": [
      "Mary*had*a*little*lamb\n"
     ]
    }
   ],
   "source": [
    "replaced_string = string.replace(\" \",\"*\")\n",
    "print(replaced_string)"
   ]
  },
  {
   "cell_type": "code",
   "execution_count": 45,
   "id": "77ed2e55",
   "metadata": {},
   "outputs": [
    {
     "name": "stdout",
     "output_type": "stream",
     "text": [
      "5.0\n"
     ]
    }
   ],
   "source": [
    "import math\n",
    "x = math.sqrt(25)\n",
    "\n",
    "print(x)"
   ]
  },
  {
   "cell_type": "code",
   "execution_count": null,
   "id": "b09ad26a",
   "metadata": {},
   "outputs": [],
   "source": []
  }
 ],
 "metadata": {
  "kernelspec": {
   "display_name": "Python 3 (ipykernel)",
   "language": "python",
   "name": "python3"
  },
  "language_info": {
   "codemirror_mode": {
    "name": "ipython",
    "version": 3
   },
   "file_extension": ".py",
   "mimetype": "text/x-python",
   "name": "python",
   "nbconvert_exporter": "python",
   "pygments_lexer": "ipython3",
   "version": "3.11.3"
  }
 },
 "nbformat": 4,
 "nbformat_minor": 5
}
