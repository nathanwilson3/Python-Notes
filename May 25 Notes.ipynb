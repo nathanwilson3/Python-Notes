{
 "cells": [
  {
   "cell_type": "code",
   "execution_count": 1,
   "id": "39726da6",
   "metadata": {},
   "outputs": [
    {
     "name": "stdout",
     "output_type": "stream",
     "text": [
      "1\n",
      "2\n",
      "3\n",
      "4\n",
      "5\n"
     ]
    }
   ],
   "source": [
    "i = 0\n",
    "while i < 5:\n",
    "    i = i + 1\n",
    "    print(i)"
   ]
  },
  {
   "cell_type": "code",
   "execution_count": 2,
   "id": "84cdc0c1",
   "metadata": {},
   "outputs": [
    {
     "name": "stdout",
     "output_type": "stream",
     "text": [
      "1\n",
      "2\n",
      "3\n",
      "4\n",
      "5\n"
     ]
    }
   ],
   "source": [
    "for i in range(5):\n",
    "    print(i + 1)"
   ]
  },
  {
   "cell_type": "code",
   "execution_count": 3,
   "id": "c9221514",
   "metadata": {},
   "outputs": [
    {
     "name": "stdout",
     "output_type": "stream",
     "text": [
      "0\n",
      "1\n",
      "2\n",
      "3\n",
      "4\n"
     ]
    }
   ],
   "source": [
    "for i in range(5):\n",
    "    print(i)"
   ]
  },
  {
   "cell_type": "code",
   "execution_count": 4,
   "id": "ea9612ab",
   "metadata": {},
   "outputs": [
    {
     "name": "stdout",
     "output_type": "stream",
     "text": [
      "0 0\n",
      "1 1\n",
      "2 4\n",
      "4 16\n"
     ]
    }
   ],
   "source": [
    "for i in range(5):\n",
    "    j = i**2\n",
    "    if i == 3:\n",
    "        continue\n",
    "    print(i,j)"
   ]
  },
  {
   "cell_type": "code",
   "execution_count": 10,
   "id": "79e67232",
   "metadata": {},
   "outputs": [
    {
     "name": "stdout",
     "output_type": "stream",
     "text": [
      "2.5\n"
     ]
    }
   ],
   "source": [
    "test_list = [1,2,3,4]\n",
    "num = sum(test_list)\n",
    "\n",
    "print(num / len(test_list))"
   ]
  },
  {
   "cell_type": "code",
   "execution_count": 13,
   "id": "03dd19fe",
   "metadata": {},
   "outputs": [
    {
     "name": "stdout",
     "output_type": "stream",
     "text": [
      "2.0\n"
     ]
    }
   ],
   "source": [
    "n_list = [1,2,3,4]\n",
    "\n",
    "sum = 0\n",
    "n = 0\n",
    "for i in n_list:\n",
    "    if i % 2 != 0:\n",
    "        sum = sum + i\n",
    "        n = n + 1\n",
    "mean = sum / n\n",
    "print(mean)"
   ]
  },
  {
   "cell_type": "code",
   "execution_count": 20,
   "id": "e176dc9f",
   "metadata": {},
   "outputs": [
    {
     "name": "stdout",
     "output_type": "stream",
     "text": [
      "127\n"
     ]
    }
   ],
   "source": [
    "n_list = [1, -5, 16, 76, 127, 4]\n",
    "\n",
    "max_num = 0\n",
    "\n",
    "for i in n_list:\n",
    "    max_num = i if i >= max_num else max_num\n",
    "print(max_num)"
   ]
  },
  {
   "cell_type": "code",
   "execution_count": 21,
   "id": "a777dbe1",
   "metadata": {},
   "outputs": [
    {
     "name": "stdout",
     "output_type": "stream",
     "text": [
      "127\n"
     ]
    }
   ],
   "source": [
    "n_list = [1, -5, 16, 76, 127, 4]\n",
    "print(max(n_list))"
   ]
  },
  {
   "cell_type": "code",
   "execution_count": 22,
   "id": "b47ca2e3",
   "metadata": {},
   "outputs": [
    {
     "name": "stdout",
     "output_type": "stream",
     "text": [
      "-5\n"
     ]
    }
   ],
   "source": [
    "n_list = [1, -5, 16, 76, 127, 4]\n",
    "\n",
    "least_num = 0\n",
    "\n",
    "for i in n_list:\n",
    "    least_num = i if i <= least_num else least_num\n",
    "print(least_num)"
   ]
  },
  {
   "cell_type": "code",
   "execution_count": 29,
   "id": "235b0f02",
   "metadata": {},
   "outputs": [
    {
     "name": "stdout",
     "output_type": "stream",
     "text": [
      "<enumerate object at 0x0000024D9E27AF20>\n"
     ]
    }
   ],
   "source": [
    "alist = ['Tom','Dick','Harry']\n",
    "\n",
    "for it in enumerate(alist):\n",
    "    print(i,j)"
   ]
  },
  {
   "cell_type": "code",
   "execution_count": 28,
   "id": "f69ec6ad",
   "metadata": {},
   "outputs": [
    {
     "name": "stdout",
     "output_type": "stream",
     "text": [
      "(0, 'Jane') <class 'tuple'>\n",
      "(1, 3) <class 'tuple'>\n",
      "(2, 5) <class 'tuple'>\n",
      "(3, 'Bill') <class 'tuple'>\n"
     ]
    }
   ],
   "source": [
    "a_list = ['Jane', 3, 5,'Bill']\n",
    "\n",
    "for item in enumerate(a_list):\n",
    "    print(item, type(item))"
   ]
  },
  {
   "cell_type": "code",
   "execution_count": 30,
   "id": "a5425cd5",
   "metadata": {},
   "outputs": [
    {
     "name": "stdout",
     "output_type": "stream",
     "text": [
      "(0, 'Tom') 0 Tom\n",
      "(1, 'Dick') 1 Dick\n",
      "(2, 'Harry') 2 Harry\n"
     ]
    }
   ],
   "source": [
    "for item in enumerate(alist):\n",
    "    index, value = item\n",
    "    print(item, index, value)"
   ]
  },
  {
   "cell_type": "code",
   "execution_count": 40,
   "id": "a9124f0c",
   "metadata": {},
   "outputs": [
    {
     "name": "stdout",
     "output_type": "stream",
     "text": [
      "The largest value is at 5323 and is at index 5\n"
     ]
    }
   ],
   "source": [
    "tlist = [1, 236, 5, 5323, -1, 325, 5323, 5323, 0, 4, ]\n",
    "\n",
    "lrgv = tlist[0]\n",
    "loc = 0\n",
    "for index, value in enumerate(tlist):\n",
    "    if value > lrgv:\n",
    "        lrgv = value\n",
    "        loc = index\n",
    "print(f'The largest value is at {lrgv} and is at index {loc}')\n",
    "    "
   ]
  },
  {
   "cell_type": "code",
   "execution_count": 48,
   "id": "2aebdcf5",
   "metadata": {},
   "outputs": [
    {
     "name": "stdout",
     "output_type": "stream",
     "text": [
      "The largest value is 4\n",
      "It occurs at index(index)\n"
     ]
    }
   ],
   "source": [
    "tlist = [1, 236, 5, 5323, -1, 325, 5323, 5323, 0, 4, ]\n",
    "\n",
    "lrgv = tlist[0]\n",
    "for i in tlist:\n",
    "    if value > lrgv:\n",
    "        lrgv = value\n",
    "print(f'The largest value is {lrgv}')\n",
    "\n",
    "loclist = []\n",
    "for index, i in enumerate(n_list):\n",
    "    if i == lrgv:\n",
    "        loclist.append(index)\n",
    "        \n",
    "for index in loclist:\n",
    "    print(f'It occurs at index(index)')"
   ]
  },
  {
   "cell_type": "code",
   "execution_count": null,
   "id": "39367235",
   "metadata": {},
   "outputs": [],
   "source": []
  }
 ],
 "metadata": {
  "kernelspec": {
   "display_name": "Python 3 (ipykernel)",
   "language": "python",
   "name": "python3"
  },
  "language_info": {
   "codemirror_mode": {
    "name": "ipython",
    "version": 3
   },
   "file_extension": ".py",
   "mimetype": "text/x-python",
   "name": "python",
   "nbconvert_exporter": "python",
   "pygments_lexer": "ipython3",
   "version": "3.11.3"
  }
 },
 "nbformat": 4,
 "nbformat_minor": 5
}
