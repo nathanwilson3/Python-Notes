{
 "cells": [
  {
   "cell_type": "code",
   "execution_count": 7,
   "id": "914e8942",
   "metadata": {},
   "outputs": [
    {
     "name": "stdout",
     "output_type": "stream",
     "text": [
      "a\n",
      "13\n",
      "n\n"
     ]
    }
   ],
   "source": [
    "my_name = 'Nathan Wilson'\n",
    "second = my_name[1]\n",
    "\n",
    "print(second)\n",
    "\n",
    "print(len(my_name))\n",
    "\n",
    "print(my_name[12])"
   ]
  },
  {
   "cell_type": "code",
   "execution_count": 8,
   "id": "c9db214f",
   "metadata": {},
   "outputs": [
    {
     "name": "stdout",
     "output_type": "stream",
     "text": [
      "N\n",
      "a\n",
      "t\n",
      "h\n",
      "a\n",
      "n\n",
      " \n",
      "W\n",
      "i\n",
      "l\n",
      "s\n",
      "o\n",
      "n\n"
     ]
    }
   ],
   "source": [
    "length = len(my_name)\n",
    "pos = 0\n",
    "while pos < length:\n",
    "    print(my_name[pos])\n",
    "    pos = pos + 1"
   ]
  },
  {
   "cell_type": "code",
   "execution_count": 12,
   "id": "5110c4ff",
   "metadata": {},
   "outputs": [
    {
     "name": "stdout",
     "output_type": "stream",
     "text": [
      "N\n",
      "a\n",
      "t\n",
      "h\n",
      "a\n",
      "n\n",
      " \n",
      "W\n",
      "i\n",
      "l\n",
      "s\n",
      "o\n",
      "n\n"
     ]
    }
   ],
   "source": [
    "for letter in my_name:\n",
    "    print(letter)"
   ]
  },
  {
   "cell_type": "code",
   "execution_count": 13,
   "id": "1d36f768",
   "metadata": {},
   "outputs": [
    {
     "name": "stdout",
     "output_type": "stream",
     "text": [
      "n W\n"
     ]
    }
   ],
   "source": [
    "straddle = my_name[5:8]\n",
    "print(straddle)"
   ]
  },
  {
   "cell_type": "code",
   "execution_count": 15,
   "id": "24c01f23",
   "metadata": {},
   "outputs": [
    {
     "name": "stdout",
     "output_type": "stream",
     "text": [
      "6\n",
      "Nathan\n",
      "Wilson\n"
     ]
    }
   ],
   "source": [
    "blank_pos = 6\n",
    "first_name = my_name[:blank_pos]\n",
    "last_name = my_name[blank_pos + 1:]\n",
    "print(blank_pos)\n",
    "print(first_name)\n",
    "print(last_name)"
   ]
  },
  {
   "cell_type": "code",
   "execution_count": 16,
   "id": "c274a1d0",
   "metadata": {},
   "outputs": [
    {
     "name": "stdout",
     "output_type": "stream",
     "text": [
      "True\n"
     ]
    }
   ],
   "source": [
    "blank_pos_2 = my_name.find(' ')\n",
    "print(blank_pos == blank_pos_2)"
   ]
  },
  {
   "cell_type": "code",
   "execution_count": 22,
   "id": "b790250c",
   "metadata": {},
   "outputs": [
    {
     "name": "stdout",
     "output_type": "stream",
     "text": [
      "nathan wilson\n",
      "Nathan wilson\n",
      "Nathan Wilson\n",
      "NATHAN WILSON\n",
      "Nxthxn Wxlsxn\n"
     ]
    }
   ],
   "source": [
    "name_lower = my_name.lower()\n",
    "cap_name = name_lower.capitalize()\n",
    "both_caps = name_lower.title()\n",
    "upper_name = name_lower.upper()\n",
    "\n",
    "print(name_lower)\n",
    "print(cap_name)\n",
    "print(both_caps)\n",
    "print(upper_name)\n",
    "\n",
    "devoweled = my_name.replace('a','x')\n",
    "devoweled = devoweled.replace('e','x')\n",
    "devoweled = devoweled.replace('i','x')\n",
    "devoweled = devoweled.replace('o','x')\n",
    "\n",
    "print(devoweled)"
   ]
  },
  {
   "cell_type": "code",
   "execution_count": 28,
   "id": "c0a93500",
   "metadata": {},
   "outputs": [],
   "source": [
    "def name_check(name):\n",
    "    return name.endswith('son') or name.endswith('sen')\n"
   ]
  },
  {
   "cell_type": "code",
   "execution_count": 29,
   "id": "245a9328",
   "metadata": {},
   "outputs": [
    {
     "ename": "TypeError",
     "evalue": "'str' object does not support item assignment",
     "output_type": "error",
     "traceback": [
      "\u001b[1;31m---------------------------------------------------------------------------\u001b[0m",
      "\u001b[1;31mTypeError\u001b[0m                                 Traceback (most recent call last)",
      "Cell \u001b[1;32mIn[29], line 2\u001b[0m\n\u001b[0;32m      1\u001b[0m s \u001b[38;5;241m=\u001b[39m \u001b[38;5;124m'\u001b[39m\u001b[38;5;124mabc\u001b[39m\u001b[38;5;124m'\u001b[39m\n\u001b[1;32m----> 2\u001b[0m \u001b[43ms\u001b[49m\u001b[43m[\u001b[49m\u001b[38;5;241;43m0\u001b[39;49m\u001b[43m]\u001b[49m \u001b[38;5;241m=\u001b[39m \u001b[38;5;124m\"\u001b[39m\u001b[38;5;124mA\u001b[39m\u001b[38;5;124m\"\u001b[39m\n\u001b[0;32m      3\u001b[0m \u001b[38;5;28mprint\u001b[39m(s)\n",
      "\u001b[1;31mTypeError\u001b[0m: 'str' object does not support item assignment"
     ]
    }
   ],
   "source": [
    "s = 'abc'\n",
    "s[0] = \"A\"\n",
    "print(s)"
   ]
  },
  {
   "cell_type": "code",
   "execution_count": 30,
   "id": "7cc015da",
   "metadata": {},
   "outputs": [
    {
     "name": "stdout",
     "output_type": "stream",
     "text": [
      "Abc\n"
     ]
    }
   ],
   "source": [
    "s = \"abc\"\n",
    "s = s.capitalize()\n",
    "print(s)"
   ]
  },
  {
   "cell_type": "code",
   "execution_count": 39,
   "id": "5fee6906",
   "metadata": {},
   "outputs": [
    {
     "name": "stdout",
     "output_type": "stream",
     "text": [
      "Ueia\n"
     ]
    }
   ],
   "source": [
    "vowels = \"aeiouAEIOU\"\n",
    "s = \"Use this fact\"\n",
    "res = \"\"\n",
    "for i in s:\n",
    "    if i in vowels:\n",
    "        res = res + i\n",
    "print(res)"
   ]
  },
  {
   "cell_type": "code",
   "execution_count": 43,
   "id": "129e12da",
   "metadata": {},
   "outputs": [
    {
     "name": "stdout",
     "output_type": "stream",
     "text": [
      "\n"
     ]
    }
   ],
   "source": [
    "vowels = \"aeiouAEIOU\"\n",
    "s = \"Use this fact\"\n",
    "res = \"\"\n",
    "for index, character in enumerate(s):\n",
    "    if index % 2 == 1 and character in vowels:\n",
    "        res = res + character\n",
    "print(res)"
   ]
  },
  {
   "cell_type": "code",
   "execution_count": 45,
   "id": "4156f23c",
   "metadata": {},
   "outputs": [
    {
     "name": "stdout",
     "output_type": "stream",
     "text": [
      "Name of file?x.jpg\n",
      "jpg\n"
     ]
    }
   ],
   "source": [
    "fn = input(\"Name of file?\")\n",
    "dot_loc = fn.find(\".\")\n",
    "ftype = fn[dot_loc + 1:]\n",
    "print(ftype)\n"
   ]
  },
  {
   "cell_type": "code",
   "execution_count": null,
   "id": "745a4263",
   "metadata": {},
   "outputs": [],
   "source": []
  }
 ],
 "metadata": {
  "kernelspec": {
   "display_name": "Python 3 (ipykernel)",
   "language": "python",
   "name": "python3"
  },
  "language_info": {
   "codemirror_mode": {
    "name": "ipython",
    "version": 3
   },
   "file_extension": ".py",
   "mimetype": "text/x-python",
   "name": "python",
   "nbconvert_exporter": "python",
   "pygments_lexer": "ipython3",
   "version": "3.11.3"
  }
 },
 "nbformat": 4,
 "nbformat_minor": 5
}
