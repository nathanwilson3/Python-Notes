{
 "cells": [
  {
   "cell_type": "code",
   "execution_count": 1,
   "id": "72aa4fda",
   "metadata": {},
   "outputs": [
    {
     "ename": "SyntaxError",
     "evalue": "leading zeros in decimal integer literals are not permitted; use an 0o prefix for octal integers (3288570837.py, line 5)",
     "output_type": "error",
     "traceback": [
      "\u001b[1;36m  Cell \u001b[1;32mIn[1], line 5\u001b[1;36m\u001b[0m\n\u001b[1;33m    x= 09\u001b[0m\n\u001b[1;37m       ^\u001b[0m\n\u001b[1;31mSyntaxError\u001b[0m\u001b[1;31m:\u001b[0m leading zeros in decimal integer literals are not permitted; use an 0o prefix for octal integers\n"
     ]
    }
   ],
   "source": [
    "x = 2e12\n",
    "print(x)\n",
    "print(type(x))\n",
    "x =     2.\n",
    "print(x)\n",
    "print(type(x))\n",
    "x = .2\n",
    "print(x)\n",
    "x = 9\n",
    "x= 09"
   ]
  },
  {
   "cell_type": "code",
   "execution_count": 3,
   "id": "7d20d4e8",
   "metadata": {},
   "outputs": [
    {
     "name": "stdout",
     "output_type": "stream",
     "text": [
      "11\n",
      "14\n"
     ]
    }
   ],
   "source": [
    "print(3 + 4 * 2)\n",
    "print(2 * (3 + 4))"
   ]
  },
  {
   "cell_type": "code",
   "execution_count": 4,
   "id": "830aa67b",
   "metadata": {},
   "outputs": [
    {
     "name": "stdout",
     "output_type": "stream",
     "text": [
      "0\n",
      "0\n",
      "4\n"
     ]
    }
   ],
   "source": [
    "print(5 - 3 - 2)\n",
    "print((5 - 3) - 2)\n",
    "print(5 - (3 - 2))"
   ]
  },
  {
   "cell_type": "code",
   "execution_count": 5,
   "id": "ae190aae",
   "metadata": {},
   "outputs": [
    {
     "name": "stdout",
     "output_type": "stream",
     "text": [
      "1953125\n",
      "15625\n",
      "1953125\n"
     ]
    }
   ],
   "source": [
    "print(5 ** 3 ** 2)\n",
    "print((5 ** 3) ** 2)\n",
    "print(5 ** (3 ** 2))"
   ]
  },
  {
   "cell_type": "code",
   "execution_count": null,
   "id": "3ad6bd34",
   "metadata": {},
   "outputs": [],
   "source": []
  },
  {
   "cell_type": "code",
   "execution_count": 6,
   "id": "aaeffec3",
   "metadata": {},
   "outputs": [
    {
     "name": "stdout",
     "output_type": "stream",
     "text": [
      "-1\n",
      "1\n"
     ]
    }
   ],
   "source": [
    "print(-1 ** 2)\n",
    "print((-1) * (-1))"
   ]
  },
  {
   "cell_type": "code",
   "execution_count": 7,
   "id": "c4ea8548",
   "metadata": {},
   "outputs": [
    {
     "data": {
      "text/plain": [
       "33"
      ]
     },
     "execution_count": 7,
     "metadata": {},
     "output_type": "execute_result"
    }
   ],
   "source": [
    "int(4.5)\n",
    "int(33)"
   ]
  },
  {
   "cell_type": "code",
   "execution_count": 8,
   "id": "b7bb0f47",
   "metadata": {},
   "outputs": [
    {
     "name": "stdout",
     "output_type": "stream",
     "text": [
      "Give me a number:300.00\n"
     ]
    },
    {
     "ename": "ValueError",
     "evalue": "invalid literal for int() with base 10: '300.00'",
     "output_type": "error",
     "traceback": [
      "\u001b[1;31m---------------------------------------------------------------------------\u001b[0m",
      "\u001b[1;31mValueError\u001b[0m                                Traceback (most recent call last)",
      "Cell \u001b[1;32mIn[8], line 1\u001b[0m\n\u001b[1;32m----> 1\u001b[0m x \u001b[38;5;241m=\u001b[39m \u001b[38;5;28;43mint\u001b[39;49m\u001b[43m(\u001b[49m\u001b[38;5;28;43minput\u001b[39;49m\u001b[43m(\u001b[49m\u001b[38;5;124;43m\"\u001b[39;49m\u001b[38;5;124;43mGive me a number:\u001b[39;49m\u001b[38;5;124;43m\"\u001b[39;49m\u001b[43m)\u001b[49m\u001b[43m)\u001b[49m\n\u001b[0;32m      2\u001b[0m \u001b[38;5;28mprint\u001b[39m(x)\n\u001b[0;32m      3\u001b[0m \u001b[38;5;241m300.0\u001b[39m\n",
      "\u001b[1;31mValueError\u001b[0m: invalid literal for int() with base 10: '300.00'"
     ]
    }
   ],
   "source": [
    "x = int(input(\"Give me a number:\"))\n",
    "print(x)\n",
    "300.0"
   ]
  },
  {
   "cell_type": "code",
   "execution_count": 15,
   "id": "4b742eea",
   "metadata": {},
   "outputs": [
    {
     "name": "stdout",
     "output_type": "stream",
     "text": [
      "Give me a number: 231\n",
      "231.0\n"
     ]
    }
   ],
   "source": [
    "x = float(input(\"Give me a number: \"))\n",
    "print(x)"
   ]
  },
  {
   "cell_type": "code",
   "execution_count": 14,
   "id": "3a1537c8",
   "metadata": {},
   "outputs": [
    {
     "name": "stdout",
     "output_type": "stream",
     "text": [
      "Give me a number 213\n",
      "213.0\n"
     ]
    }
   ],
   "source": [
    "x = float(input(\"Give me a number \"))\n",
    "print(x)"
   ]
  },
  {
   "cell_type": "code",
   "execution_count": 18,
   "id": "8ef13794",
   "metadata": {},
   "outputs": [
    {
     "name": "stdout",
     "output_type": "stream",
     "text": [
      "100.0\n",
      "110.0\n",
      "90.0\n",
      "45.0\n",
      "6.708203932499369\n"
     ]
    }
   ],
   "source": [
    "x = 1.0\n",
    "x *=100\n",
    "print(x)\n",
    "x += 10\n",
    "print(x)\n",
    "x -= 20\n",
    "print(x)\n",
    "x /= 2\n",
    "print(x)\n",
    "x **= .5\n",
    "print(x)"
   ]
  },
  {
   "cell_type": "code",
   "execution_count": 19,
   "id": "f5b67896",
   "metadata": {},
   "outputs": [
    {
     "name": "stdout",
     "output_type": "stream",
     "text": [
      "1.6666666666666667\n",
      "1\n",
      "2\n"
     ]
    }
   ],
   "source": [
    "x = 5 / 3\n",
    "print(x)\n",
    "\n",
    "x = 5 // 3\n",
    "print(x)\n",
    "\n",
    "x = 5 % 3\n",
    "print(x)"
   ]
  },
  {
   "cell_type": "code",
   "execution_count": 20,
   "id": "1d72e8a8",
   "metadata": {},
   "outputs": [
    {
     "ename": "NameError",
     "evalue": "name 'sqrt' is not defined",
     "output_type": "error",
     "traceback": [
      "\u001b[1;31m---------------------------------------------------------------------------\u001b[0m",
      "\u001b[1;31mNameError\u001b[0m                                 Traceback (most recent call last)",
      "Cell \u001b[1;32mIn[20], line 1\u001b[0m\n\u001b[1;32m----> 1\u001b[0m x \u001b[38;5;241m=\u001b[39m \u001b[43msqrt\u001b[49m(\u001b[38;5;241m2\u001b[39m)\n\u001b[0;32m      2\u001b[0m \u001b[38;5;28mprint\u001b[39m(x)\n",
      "\u001b[1;31mNameError\u001b[0m: name 'sqrt' is not defined"
     ]
    }
   ],
   "source": [
    "x = sqrt(2)\n",
    "print(x)"
   ]
  },
  {
   "cell_type": "code",
   "execution_count": 21,
   "id": "f2e0540e",
   "metadata": {},
   "outputs": [
    {
     "ename": "NameError",
     "evalue": "name 'sqrt' is not defined",
     "output_type": "error",
     "traceback": [
      "\u001b[1;31m---------------------------------------------------------------------------\u001b[0m",
      "\u001b[1;31mNameError\u001b[0m                                 Traceback (most recent call last)",
      "Cell \u001b[1;32mIn[21], line 2\u001b[0m\n\u001b[0;32m      1\u001b[0m \u001b[38;5;28;01mimport\u001b[39;00m \u001b[38;5;21;01mmath\u001b[39;00m\n\u001b[1;32m----> 2\u001b[0m x \u001b[38;5;241m=\u001b[39m \u001b[43msqrt\u001b[49m(\u001b[38;5;241m2\u001b[39m)\n\u001b[0;32m      3\u001b[0m \u001b[38;5;28mprint\u001b[39m(x)\n",
      "\u001b[1;31mNameError\u001b[0m: name 'sqrt' is not defined"
     ]
    }
   ],
   "source": [
    "import math\n",
    "x = sqrt(2)\n",
    "print(x)"
   ]
  },
  {
   "cell_type": "code",
   "execution_count": 22,
   "id": "3318fbcf",
   "metadata": {},
   "outputs": [
    {
     "name": "stdout",
     "output_type": "stream",
     "text": [
      "1.4142135623730951\n"
     ]
    }
   ],
   "source": [
    "import math\n",
    "x = math.sqrt(2)\n",
    "print(x)"
   ]
  },
  {
   "cell_type": "code",
   "execution_count": 30,
   "id": "c1e31740",
   "metadata": {},
   "outputs": [
    {
     "name": "stdout",
     "output_type": "stream",
     "text": [
      "57.96433265483934\n"
     ]
    }
   ],
   "source": [
    "import random\n",
    "print(random.uniform(1.0, 100.0))"
   ]
  },
  {
   "cell_type": "code",
   "execution_count": 32,
   "id": "b95e56e0",
   "metadata": {},
   "outputs": [
    {
     "name": "stdout",
     "output_type": "stream",
     "text": [
      "TomDickHarry\n",
      "Tom\n",
      "Dick\n",
      "Harry\n",
      "Tom\\nDick\\nHarry\n",
      "Tom\\\n",
      "Dick\\\n",
      "Harry\n"
     ]
    }
   ],
   "source": [
    "print(\"TomDickHarry\")\n",
    "print(\"Tom\\nDick\\nHarry\")\n",
    "print(\"Tom\\\\nDick\\\\nHarry\")\n",
    "print(\"Tom\\\\\\nDick\\\\\\nHarry\")"
   ]
  },
  {
   "cell_type": "code",
   "execution_count": 33,
   "id": "82464f29",
   "metadata": {},
   "outputs": [
    {
     "name": "stdout",
     "output_type": "stream",
     "text": [
      "K\n",
      "75\n"
     ]
    }
   ],
   "source": [
    "print(chr(75))\n",
    "print(ord(\"K\"))"
   ]
  },
  {
   "cell_type": "code",
   "execution_count": 34,
   "id": "df85f616",
   "metadata": {},
   "outputs": [
    {
     "name": "stdout",
     "output_type": "stream",
     "text": [
      "乫\n"
     ]
    }
   ],
   "source": [
    "print(chr(20075))"
   ]
  },
  {
   "cell_type": "code",
   "execution_count": 35,
   "id": "aa4caa69",
   "metadata": {},
   "outputs": [
    {
     "ename": "ValueError",
     "evalue": "chr() arg not in range(0x110000)",
     "output_type": "error",
     "traceback": [
      "\u001b[1;31m---------------------------------------------------------------------------\u001b[0m",
      "\u001b[1;31mValueError\u001b[0m                                Traceback (most recent call last)",
      "Cell \u001b[1;32mIn[35], line 1\u001b[0m\n\u001b[1;32m----> 1\u001b[0m \u001b[38;5;28mprint\u001b[39m(\u001b[38;5;28;43mchr\u001b[39;49m\u001b[43m(\u001b[49m\u001b[38;5;241;43m34287498\u001b[39;49m\u001b[43m)\u001b[49m)\n",
      "\u001b[1;31mValueError\u001b[0m: chr() arg not in range(0x110000)"
     ]
    }
   ],
   "source": [
    "print(chr(34287498))"
   ]
  },
  {
   "cell_type": "code",
   "execution_count": 36,
   "id": "f8989fc8",
   "metadata": {},
   "outputs": [
    {
     "name": "stdout",
     "output_type": "stream",
     "text": [
      "厸\n"
     ]
    }
   ],
   "source": [
    "print(chr(21432))"
   ]
  },
  {
   "cell_type": "code",
   "execution_count": 37,
   "id": "71e217b4",
   "metadata": {},
   "outputs": [
    {
     "name": "stdout",
     "output_type": "stream",
     "text": [
      "ಎ\n"
     ]
    }
   ],
   "source": [
    "print(chr(3214))"
   ]
  },
  {
   "cell_type": "code",
   "execution_count": 40,
   "id": "f4140475",
   "metadata": {},
   "outputs": [
    {
     "name": "stdout",
     "output_type": "stream",
     "text": [
      "Decimal - 9. Binary - 1001\n"
     ]
    }
   ],
   "source": [
    "number = 9\n",
    "print(f'Decimal - 9. Binary - {number:b}')"
   ]
  },
  {
   "cell_type": "code",
   "execution_count": null,
   "id": "2f6ded8d",
   "metadata": {},
   "outputs": [],
   "source": []
  }
 ],
 "metadata": {
  "kernelspec": {
   "display_name": "Python 3 (ipykernel)",
   "language": "python",
   "name": "python3"
  },
  "language_info": {
   "codemirror_mode": {
    "name": "ipython",
    "version": 3
   },
   "file_extension": ".py",
   "mimetype": "text/x-python",
   "name": "python",
   "nbconvert_exporter": "python",
   "pygments_lexer": "ipython3",
   "version": "3.11.3"
  }
 },
 "nbformat": 4,
 "nbformat_minor": 5
}
