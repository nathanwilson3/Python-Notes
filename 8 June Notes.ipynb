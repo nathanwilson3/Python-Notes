{
 "cells": [
  {
   "cell_type": "code",
   "execution_count": 11,
   "id": "37610808",
   "metadata": {},
   "outputs": [
    {
     "name": "stdout",
     "output_type": "stream",
     "text": [
      "{'joe': 175, 'Tom': 190, 'Dick': 150}\n"
     ]
    }
   ],
   "source": [
    "adict = {\"joe\":175,\"Tom\":190,\"Dick\":150}\n",
    "print(adict)"
   ]
  },
  {
   "cell_type": "code",
   "execution_count": 12,
   "id": "16c1f92a",
   "metadata": {},
   "outputs": [],
   "source": [
    "adict[\"harry\"] = 180."
   ]
  },
  {
   "cell_type": "code",
   "execution_count": 13,
   "id": "0307e6eb",
   "metadata": {},
   "outputs": [
    {
     "name": "stdout",
     "output_type": "stream",
     "text": [
      "{'joe': 175, 'Tom': 190, 'Dick': 150, 'harry': 180.0}\n"
     ]
    }
   ],
   "source": [
    "print(adict)"
   ]
  },
  {
   "cell_type": "code",
   "execution_count": 14,
   "id": "839d7295",
   "metadata": {},
   "outputs": [
    {
     "name": "stdout",
     "output_type": "stream",
     "text": [
      "{'Tom': 190, 'Dick': 150, 'harry': 180.0}\n"
     ]
    }
   ],
   "source": [
    "adict.pop(\"joe\")\n",
    "print(adict)"
   ]
  },
  {
   "cell_type": "code",
   "execution_count": 15,
   "id": "53654c02",
   "metadata": {},
   "outputs": [
    {
     "name": "stdout",
     "output_type": "stream",
     "text": [
      "150\n"
     ]
    }
   ],
   "source": [
    "print(adict[\"Dick\"])"
   ]
  },
  {
   "cell_type": "code",
   "execution_count": 17,
   "id": "3c96f502",
   "metadata": {},
   "outputs": [
    {
     "name": "stdout",
     "output_type": "stream",
     "text": [
      "520.0\n"
     ]
    }
   ],
   "source": [
    "sum = 0\n",
    "for x in adict.values():\n",
    "    sum += x\n",
    "print(sum)"
   ]
  },
  {
   "cell_type": "code",
   "execution_count": 20,
   "id": "9b2bf099",
   "metadata": {},
   "outputs": [
    {
     "name": "stdout",
     "output_type": "stream",
     "text": [
      "dict_items([('Tom', 190), ('Dick', 150), ('harry', 180.0)])\n",
      "<class 'dict_items'>\n"
     ]
    }
   ],
   "source": [
    "returned_items = adict.items()\n",
    "print(returned_items)\n",
    "print(type(returned_items))"
   ]
  },
  {
   "cell_type": "code",
   "execution_count": 21,
   "id": "3cbde02e",
   "metadata": {},
   "outputs": [
    {
     "name": "stdout",
     "output_type": "stream",
     "text": [
      "('Tom', 190)\n",
      "<class 'tuple'>\n",
      "('Dick', 150)\n",
      "<class 'tuple'>\n",
      "('harry', 180.0)\n",
      "<class 'tuple'>\n"
     ]
    }
   ],
   "source": [
    "for i in returned_items:\n",
    "    print(i)\n",
    "    print(type(i))"
   ]
  },
  {
   "cell_type": "code",
   "execution_count": 23,
   "id": "fa288e0b",
   "metadata": {},
   "outputs": [
    {
     "ename": "TypeError",
     "evalue": "'dict_items' object is not subscriptable",
     "output_type": "error",
     "traceback": [
      "\u001b[1;31m---------------------------------------------------------------------------\u001b[0m",
      "\u001b[1;31mTypeError\u001b[0m                                 Traceback (most recent call last)",
      "Cell \u001b[1;32mIn[23], line 1\u001b[0m\n\u001b[1;32m----> 1\u001b[0m \u001b[38;5;28mprint\u001b[39m(\u001b[43mreturned_items\u001b[49m\u001b[43m[\u001b[49m\u001b[38;5;241;43m1\u001b[39;49m\u001b[43m]\u001b[49m)\n",
      "\u001b[1;31mTypeError\u001b[0m: 'dict_items' object is not subscriptable"
     ]
    }
   ],
   "source": [
    "print(returned_items[1])"
   ]
  },
  {
   "cell_type": "code",
   "execution_count": 24,
   "id": "a81308e2",
   "metadata": {},
   "outputs": [
    {
     "name": "stdout",
     "output_type": "stream",
     "text": [
      "('Tom', 190)\n"
     ]
    }
   ],
   "source": [
    "print(list(returned_items)[0])"
   ]
  },
  {
   "cell_type": "code",
   "execution_count": 25,
   "id": "230f1c78",
   "metadata": {},
   "outputs": [
    {
     "name": "stdout",
     "output_type": "stream",
     "text": [
      "<class 'list'>\n",
      "[('Dick', 150), ('Tom', 190), ('harry', 180.0)]\n"
     ]
    }
   ],
   "source": [
    "sorted_items = (sorted(returned_items))\n",
    "print(type(sorted_items))\n",
    "print(sorted_items)"
   ]
  },
  {
   "cell_type": "code",
   "execution_count": 26,
   "id": "a9e853fb",
   "metadata": {},
   "outputs": [
    {
     "name": "stdout",
     "output_type": "stream",
     "text": [
      "{150: 'Dick', 190: 'Tom', 180.0: 'harry'}\n"
     ]
    }
   ],
   "source": [
    "new_dict = {}\n",
    "for key, value in sorted(adict.items()):\n",
    "    new_dict[value] = key\n",
    "    \n",
    "print(new_dict)"
   ]
  },
  {
   "cell_type": "code",
   "execution_count": 27,
   "id": "5c94dc60",
   "metadata": {},
   "outputs": [
    {
     "name": "stdout",
     "output_type": "stream",
     "text": [
      "{'Tom': 190, 'Dick': 150, 'harry': 180.0, 'Jerry': 150}\n"
     ]
    }
   ],
   "source": [
    "adict[\"Jerry\"] = 150\n",
    "print(adict)"
   ]
  },
  {
   "cell_type": "code",
   "execution_count": 28,
   "id": "dd4977a3",
   "metadata": {},
   "outputs": [
    {
     "name": "stdout",
     "output_type": "stream",
     "text": [
      "{150: 'Jerry', 190: 'Tom', 180.0: 'harry'}\n"
     ]
    }
   ],
   "source": [
    "new_dict = {}\n",
    "for key, value in sorted(adict.items()):\n",
    "    new_dict[value] = key\n",
    "    \n",
    "print(new_dict)"
   ]
  },
  {
   "cell_type": "code",
   "execution_count": 29,
   "id": "c2a905aa",
   "metadata": {},
   "outputs": [
    {
     "name": "stdout",
     "output_type": "stream",
     "text": [
      "M 1\n",
      "i 4\n",
      "s 4\n",
      "p 2\n"
     ]
    }
   ],
   "source": [
    "s = 'Mississippi'\n",
    "count_dict = {}\n",
    "for c in s:\n",
    "    if c in count_dict:\n",
    "        count_dict[c] = count_dict[c] + 1\n",
    "    else:\n",
    "        count_dict[c] = 1\n",
    "\n",
    "        \n",
    "for k in count_dict.keys():\n",
    "    print(k,count_dict[k])"
   ]
  },
  {
   "cell_type": "code",
   "execution_count": 30,
   "id": "1601aec3",
   "metadata": {},
   "outputs": [
    {
     "name": "stdout",
     "output_type": "stream",
     "text": [
      "1 2\n",
      "2 6\n",
      "6 5\n",
      "7 3\n",
      "5 2\n",
      "0 6\n",
      "8 1\n",
      "9 2\n",
      "4 2\n",
      "3 2\n"
     ]
    }
   ],
   "source": [
    "s = str(2**100)\n",
    "count_dict = {}\n",
    "for c in s:\n",
    "    if c in count_dict:\n",
    "        count_dict[c] = count_dict[c] + 1\n",
    "    else:\n",
    "        count_dict[c] = 1\n",
    "\n",
    "        \n",
    "for k in count_dict.keys():\n",
    "    print(k,count_dict[k])"
   ]
  },
  {
   "cell_type": "code",
   "execution_count": 32,
   "id": "2305792c",
   "metadata": {},
   "outputs": [
    {
     "name": "stdout",
     "output_type": "stream",
     "text": [
      "1267650600228229401496703205376\n",
      "1 2\n",
      "2 6\n",
      "6 5\n",
      "7 3\n",
      "5 2\n",
      "0 6\n",
      "8 1\n",
      "9 2\n",
      "4 2\n",
      "3 2\n"
     ]
    }
   ],
   "source": [
    "s_num = 2**100\n",
    "s = str(s_num)\n",
    "print(s)\n",
    "count_dict = {}\n",
    "for c in s:\n",
    "    count_dict[c] = count_dict.get(c,0) + 1\n",
    "    \n",
    "for k in count_dict.keys():\n",
    "    print(k,count_dict[k])"
   ]
  },
  {
   "cell_type": "code",
   "execution_count": 40,
   "id": "93d2996a",
   "metadata": {},
   "outputs": [
    {
     "name": "stdout",
     "output_type": "stream",
     "text": [
      "T 1 0.029411764705882353\n",
      "h 1 0.029411764705882353\n",
      "i 3 0.08823529411764706\n",
      "s 3 0.08823529411764706\n",
      "  6 0.17647058823529413\n",
      "j 1 0.029411764705882353\n",
      "u 1 0.029411764705882353\n",
      "t 2 0.058823529411764705\n",
      "a 2 0.058823529411764705\n",
      "p 1 0.029411764705882353\n",
      "r 2 0.058823529411764705\n",
      "o 3 0.08823529411764706\n",
      "f 2 0.058823529411764705\n",
      "g 1 0.029411764705882353\n",
      "e 2 0.058823529411764705\n",
      "n 1 0.029411764705882353\n",
      "l 1 0.029411764705882353\n",
      "y 1 0.029411764705882353\n"
     ]
    }
   ],
   "source": [
    "s = 'This is just a proof of generality'\n",
    "l = (s)\n",
    "count_dict = {}\n",
    "for c in l:\n",
    "    count_dict[c] = count_dict.get(c,0) + 1\n",
    "    \n",
    "for k in count_dict.keys():\n",
    "    print(k,count_dict[k],count_dict[k]/len(l))"
   ]
  },
  {
   "cell_type": "code",
   "execution_count": 41,
   "id": "c02ea75c",
   "metadata": {},
   "outputs": [
    {
     "name": "stdout",
     "output_type": "stream",
     "text": [
      "M 1 0.09090909090909091\n",
      "i 4 0.36363636363636365\n",
      "s 4 0.36363636363636365\n",
      "p 2 0.18181818181818182\n"
     ]
    }
   ],
   "source": [
    "s = 'Mississippi'\n",
    "l = (s)\n",
    "count_dict = {}\n",
    "for c in l:\n",
    "    count_dict[c] = count_dict.get(c,0) + 1\n",
    "    \n",
    "for k in count_dict.keys():\n",
    "    print(k,count_dict[k],count_dict[k]/len(l))"
   ]
  },
  {
   "cell_type": "code",
   "execution_count": 43,
   "id": "740abef4",
   "metadata": {},
   "outputs": [
    {
     "name": "stdout",
     "output_type": "stream",
     "text": [
      " \n",
      "Maximum count\n",
      "4\n",
      " \n",
      "Most frequent items\n",
      "['i', 's']\n"
     ]
    }
   ],
   "source": [
    "maxcount = max(count_dict.values())\n",
    "print(' ')\n",
    "print('Maximum count')\n",
    "print(maxcount)\n",
    "\n",
    "Win_list = []\n",
    "for i in count_dict.keys():\n",
    "    if count_dict[i] >= maxcount:\n",
    "        Win_list.append(i)\n",
    "print(' ')\n",
    "print(\"Most frequent items\")\n",
    "print(Win_list)"
   ]
  },
  {
   "cell_type": "code",
   "execution_count": null,
   "id": "f4c9e930",
   "metadata": {},
   "outputs": [],
   "source": []
  }
 ],
 "metadata": {
  "kernelspec": {
   "display_name": "Python 3 (ipykernel)",
   "language": "python",
   "name": "python3"
  },
  "language_info": {
   "codemirror_mode": {
    "name": "ipython",
    "version": 3
   },
   "file_extension": ".py",
   "mimetype": "text/x-python",
   "name": "python",
   "nbconvert_exporter": "python",
   "pygments_lexer": "ipython3",
   "version": "3.11.3"
  }
 },
 "nbformat": 4,
 "nbformat_minor": 5
}
