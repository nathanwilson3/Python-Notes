{
 "cells": [
  {
   "cell_type": "code",
   "execution_count": 6,
   "id": "6b58ef47",
   "metadata": {},
   "outputs": [],
   "source": [
    "class WeatherForecast:\n",
    "    \n",
    "    def __init__(self, skies, high, low):\n",
    "        self.skies = skies\n",
    "        self.high = high\n",
    "        self.low = low\n",
    "        \n",
    "    def set_skies(self,skies):\n",
    "        self.skies = skies\n",
    "        \n",
    "    def set_high(self,high):\n",
    "        self.high = high\n",
    "        \n",
    "    def set_low(self,low):\n",
    "        self.low = low\n",
    "        \n",
    "    def get_skies(self):\n",
    "        return self.skies\n",
    "    \n",
    "    def get_high(self):\n",
    "        return self.high\n",
    "    \n",
    "    def get_low(self):\n",
    "        return self.low\n",
    "        \n",
    "june_22 = WeatherForecast(\"clear\", 75, 45)"
   ]
  },
  {
   "cell_type": "code",
   "execution_count": 7,
   "id": "27df0d24",
   "metadata": {},
   "outputs": [
    {
     "data": {
      "text/plain": [
       "'clear'"
      ]
     },
     "execution_count": 7,
     "metadata": {},
     "output_type": "execute_result"
    }
   ],
   "source": [
    "june_22.get_skies()"
   ]
  },
  {
   "cell_type": "code",
   "execution_count": 8,
   "id": "6301e2b5",
   "metadata": {},
   "outputs": [
    {
     "data": {
      "text/plain": [
       "75"
      ]
     },
     "execution_count": 8,
     "metadata": {},
     "output_type": "execute_result"
    }
   ],
   "source": [
    "june_22.get_high()"
   ]
  },
  {
   "cell_type": "code",
   "execution_count": 10,
   "id": "14a14821",
   "metadata": {},
   "outputs": [
    {
     "data": {
      "text/plain": [
       "45"
      ]
     },
     "execution_count": 10,
     "metadata": {},
     "output_type": "execute_result"
    }
   ],
   "source": [
    "june_22.get_low()"
   ]
  },
  {
   "cell_type": "code",
   "execution_count": 12,
   "id": "8ea86095",
   "metadata": {},
   "outputs": [
    {
     "data": {
      "text/plain": [
       "'Cloudy'"
      ]
     },
     "execution_count": 12,
     "metadata": {},
     "output_type": "execute_result"
    }
   ],
   "source": [
    "june_22.set_skies(\"Cloudy\")\n",
    "june_22.get_skies()"
   ]
  },
  {
   "cell_type": "code",
   "execution_count": 13,
   "id": "7782cdc3",
   "metadata": {},
   "outputs": [
    {
     "data": {
      "text/plain": [
       "65"
      ]
     },
     "execution_count": 13,
     "metadata": {},
     "output_type": "execute_result"
    }
   ],
   "source": [
    "june_22.set_high(65)\n",
    "june_22.get_high()"
   ]
  },
  {
   "cell_type": "code",
   "execution_count": 14,
   "id": "99c77720",
   "metadata": {},
   "outputs": [
    {
     "data": {
      "text/plain": [
       "39"
      ]
     },
     "execution_count": 14,
     "metadata": {},
     "output_type": "execute_result"
    }
   ],
   "source": [
    "june_22.set_low(39)\n",
    "june_22.get_low()"
   ]
  },
  {
   "cell_type": "code",
   "execution_count": 15,
   "id": "14b068af",
   "metadata": {},
   "outputs": [
    {
     "name": "stdout",
     "output_type": "stream",
     "text": [
      "Hazy\n"
     ]
    }
   ],
   "source": [
    "june_22.skies = \"Hazy\"\n",
    "print(june_22.skies)"
   ]
  },
  {
   "cell_type": "code",
   "execution_count": 16,
   "id": "57c4072d",
   "metadata": {},
   "outputs": [
    {
     "name": "stdout",
     "output_type": "stream",
     "text": [
      "80\n"
     ]
    }
   ],
   "source": [
    "june_22.high = 80\n",
    "print(june_22.high)"
   ]
  },
  {
   "cell_type": "code",
   "execution_count": 17,
   "id": "7a82a838",
   "metadata": {},
   "outputs": [
    {
     "name": "stdout",
     "output_type": "stream",
     "text": [
      "50\n"
     ]
    }
   ],
   "source": [
    "june_22.low = 50\n",
    "print(june_22.low)"
   ]
  },
  {
   "cell_type": "code",
   "execution_count": 18,
   "id": "119e6d27",
   "metadata": {},
   "outputs": [],
   "source": [
    "class LocalWeatherForecast(WeatherForecast):\n",
    "    \n",
    "    def __init__(self,loc,skies,high,low):\n",
    "        WeatherForecast.__init__(self,skies,high,low)\n",
    "        self.loc = loc\n",
    "        \n",
    "    def set_loc(self,loc):\n",
    "            self.loc = loc\n",
    "            \n",
    "    def get_loc(self):\n",
    "            return self.loc"
   ]
  },
  {
   "cell_type": "code",
   "execution_count": 20,
   "id": "8a8fc657",
   "metadata": {},
   "outputs": [],
   "source": [
    "june_23_oly = LocalWeatherForecast(\"Olympia\", \"Clear Blue\", 90, 60)"
   ]
  },
  {
   "cell_type": "code",
   "execution_count": 25,
   "id": "71ddf01f",
   "metadata": {},
   "outputs": [
    {
     "data": {
      "text/plain": [
       "'Olympia'"
      ]
     },
     "execution_count": 25,
     "metadata": {},
     "output_type": "execute_result"
    }
   ],
   "source": [
    "june_23_oly.get_loc()"
   ]
  },
  {
   "cell_type": "code",
   "execution_count": 26,
   "id": "7138da2f",
   "metadata": {},
   "outputs": [
    {
     "data": {
      "text/plain": [
       "'Clear Blue'"
      ]
     },
     "execution_count": 26,
     "metadata": {},
     "output_type": "execute_result"
    }
   ],
   "source": [
    "june_23_oly.get_skies()"
   ]
  },
  {
   "cell_type": "code",
   "execution_count": 27,
   "id": "c3240f91",
   "metadata": {},
   "outputs": [],
   "source": [
    "class LocalWeatherForecast(WeatherForecast):\n",
    "    \n",
    "    def __init__(self,loc,skies,high,low):\n",
    "        WeatherForecast.__init__(self,skies,high,low)\n",
    "        self.loc = loc\n",
    "        \n",
    "    def set_loc(self,loc):\n",
    "            self.loc = loc\n",
    "            \n",
    "    def get_loc(self):\n",
    "            return self.loc\n",
    "        \n",
    "    def get_skies(self):\n",
    "            s = \"The skies on this day in \" + self.loc + \" are \" + self.skies + \".\"\n",
    "            return s"
   ]
  },
  {
   "cell_type": "code",
   "execution_count": null,
   "id": "7085d9e0",
   "metadata": {},
   "outputs": [],
   "source": [
    "\n"
   ]
  }
 ],
 "metadata": {
  "kernelspec": {
   "display_name": "Python 3 (ipykernel)",
   "language": "python",
   "name": "python3"
  },
  "language_info": {
   "codemirror_mode": {
    "name": "ipython",
    "version": 3
   },
   "file_extension": ".py",
   "mimetype": "text/x-python",
   "name": "python",
   "nbconvert_exporter": "python",
   "pygments_lexer": "ipython3",
   "version": "3.11.3"
  }
 },
 "nbformat": 4,
 "nbformat_minor": 5
}
