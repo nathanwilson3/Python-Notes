{
 "cells": [
  {
   "cell_type": "code",
   "execution_count": 24,
   "id": "c8459dfe",
   "metadata": {},
   "outputs": [],
   "source": [
    "import math"
   ]
  },
  {
   "cell_type": "code",
   "execution_count": 25,
   "id": "12873455",
   "metadata": {},
   "outputs": [],
   "source": [
    "class counter:\n",
    "    \n",
    "    def __init__(self):\n",
    "        self.count = 0\n",
    "        \n",
    "    def increment(self):\n",
    "        self.count += 1\n",
    "        \n",
    "    def decrement(self):\n",
    "        self.count -= 1\n",
    "        \n",
    "    def get(self):\n",
    "        print(\"the current value of count is\", self.count)"
   ]
  },
  {
   "cell_type": "code",
   "execution_count": 26,
   "id": "eafce7d8",
   "metadata": {},
   "outputs": [
    {
     "name": "stdout",
     "output_type": "stream",
     "text": [
      "the current value of count is 0\n"
     ]
    }
   ],
   "source": [
    "joe = counter()\n",
    "\n",
    "joe.get()"
   ]
  },
  {
   "cell_type": "code",
   "execution_count": 27,
   "id": "0f06ebe8",
   "metadata": {},
   "outputs": [
    {
     "name": "stdout",
     "output_type": "stream",
     "text": [
      "the current value of count is 1\n"
     ]
    }
   ],
   "source": [
    "joe.increment()\n",
    "joe.get()"
   ]
  },
  {
   "cell_type": "code",
   "execution_count": 28,
   "id": "7908d7b3",
   "metadata": {},
   "outputs": [
    {
     "name": "stdout",
     "output_type": "stream",
     "text": [
      "the current value of count is 26\n"
     ]
    }
   ],
   "source": [
    "for i in range(25):\n",
    "    joe.increment()\n",
    "\n",
    "joe.get()"
   ]
  },
  {
   "cell_type": "code",
   "execution_count": 29,
   "id": "a5e1b3d1",
   "metadata": {},
   "outputs": [
    {
     "name": "stdout",
     "output_type": "stream",
     "text": [
      "the current value of count is 25\n"
     ]
    }
   ],
   "source": [
    "joe.decrement()\n",
    "\n",
    "joe.get()"
   ]
  },
  {
   "cell_type": "code",
   "execution_count": 36,
   "id": "8fdf8b20",
   "metadata": {},
   "outputs": [],
   "source": [
    "class Point:\n",
    "\n",
    "    import math\n",
    "    \n",
    "    def __init__(self,x = 0, y = 0):\n",
    "        # Create a new point at the origin \n",
    "        self.x = x\n",
    "        self.y = y\n",
    "        \n",
    "    def coordinates(self):\n",
    "        print(f'x-coordinate = {self.x}')\n",
    "        print(f'y-coordinate = {self.y}')\n",
    "        \n",
    "    def move(self,delta_x,delta_y):\n",
    "        self.x = self.x + delta_x\n",
    "        self.y = self.y + delta_y\n",
    "        \n",
    "    def distance(self,other):\n",
    "        ssq = (self.x - other.x)**2 + (self.y - other.y)**2\n",
    "        return math.sqrt(ssq)\n",
    "    \n",
    "    def __eq__(self, other):\n",
    "        return self.x == other.x and self.y == other.y\n",
    "    "
   ]
  },
  {
   "cell_type": "code",
   "execution_count": 31,
   "id": "764ac0b7",
   "metadata": {},
   "outputs": [
    {
     "name": "stdout",
     "output_type": "stream",
     "text": [
      "1.4142135623730951\n"
     ]
    }
   ],
   "source": [
    "p1 = Point()\n",
    "p2 = Point(1,1)\n",
    "\n",
    "print(p1.distance(p2))"
   ]
  },
  {
   "cell_type": "code",
   "execution_count": 32,
   "id": "58a9ede5",
   "metadata": {},
   "outputs": [
    {
     "name": "stdout",
     "output_type": "stream",
     "text": [
      "x-coordinate = 0\n",
      "y-coordinate = 0\n"
     ]
    }
   ],
   "source": [
    "p1 = Point()\n",
    "p1.coordinates()"
   ]
  },
  {
   "cell_type": "code",
   "execution_count": 33,
   "id": "43064a69",
   "metadata": {},
   "outputs": [
    {
     "name": "stdout",
     "output_type": "stream",
     "text": [
      "x-coordinate = 1\n",
      "y-coordinate = 3\n"
     ]
    }
   ],
   "source": [
    "p1 = Point()\n",
    "p1.move(1,3)\n",
    "p1.coordinates()"
   ]
  },
  {
   "cell_type": "code",
   "execution_count": 34,
   "id": "1c2d3b45",
   "metadata": {},
   "outputs": [
    {
     "name": "stdout",
     "output_type": "stream",
     "text": [
      "x-coordinate = 2\n",
      "y-coordinate = 4\n",
      "x-coordinate = 3\n",
      "y-coordinate = 5\n"
     ]
    }
   ],
   "source": [
    "p1 = Point(2,4)\n",
    "p1.coordinates()\n",
    "p1.move(1,1)\n",
    "p1.coordinates()"
   ]
  },
  {
   "cell_type": "code",
   "execution_count": 38,
   "id": "7b96c50c",
   "metadata": {},
   "outputs": [
    {
     "name": "stdout",
     "output_type": "stream",
     "text": [
      "True\n",
      "False\n"
     ]
    }
   ],
   "source": [
    "p1 = Point(1,1)\n",
    "p2 = Point(1,1)\n",
    "p3 = Point(1,2)\n",
    "\n",
    "print(p1 == p2)\n",
    "print(p1 == p3)"
   ]
  },
  {
   "cell_type": "code",
   "execution_count": null,
   "id": "3818f695",
   "metadata": {},
   "outputs": [],
   "source": []
  }
 ],
 "metadata": {
  "kernelspec": {
   "display_name": "Python 3 (ipykernel)",
   "language": "python",
   "name": "python3"
  },
  "language_info": {
   "codemirror_mode": {
    "name": "ipython",
    "version": 3
   },
   "file_extension": ".py",
   "mimetype": "text/x-python",
   "name": "python",
   "nbconvert_exporter": "python",
   "pygments_lexer": "ipython3",
   "version": "3.11.3"
  }
 },
 "nbformat": 4,
 "nbformat_minor": 5
}
