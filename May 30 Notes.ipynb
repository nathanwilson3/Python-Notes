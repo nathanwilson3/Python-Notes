{
 "cells": [
  {
   "cell_type": "code",
   "execution_count": 27,
   "id": "32bdfe01",
   "metadata": {},
   "outputs": [],
   "source": [
    "def print_lyrics():\n",
    "    print(\"I'm a lumberjack, and I'm okay.\")\n",
    "    print('I sleep all night and I work all day.')"
   ]
  },
  {
   "cell_type": "code",
   "execution_count": 8,
   "id": "c82e6401",
   "metadata": {},
   "outputs": [
    {
     "name": "stdout",
     "output_type": "stream",
     "text": [
      "I'm a lumberjack, and I'm okay.\n",
      "I sleep all night and I work all day.\n",
      "I'm a lumberjack, and I'm okay.\n",
      "I sleep all night and I work all day.\n"
     ]
    }
   ],
   "source": [
    "print_lyrics()\n",
    "print_lyrics()"
   ]
  },
  {
   "cell_type": "code",
   "execution_count": 21,
   "id": "c86ce0ff",
   "metadata": {},
   "outputs": [
    {
     "name": "stdout",
     "output_type": "stream",
     "text": [
      "12.566370614359172\n",
      "None\n"
     ]
    }
   ],
   "source": [
    "import math\n",
    "\n",
    "def circle_area(r):\n",
    "    area = math.pi * r**2\n",
    "    print(area)\n",
    "\n",
    "print(circle_area(2))"
   ]
  },
  {
   "cell_type": "code",
   "execution_count": 17,
   "id": "2304426c",
   "metadata": {},
   "outputs": [
    {
     "data": {
      "text/plain": [
       "12.566370614359172"
      ]
     },
     "execution_count": 17,
     "metadata": {},
     "output_type": "execute_result"
    }
   ],
   "source": [
    "circle_area(2)"
   ]
  },
  {
   "cell_type": "code",
   "execution_count": 18,
   "id": "b59152ed",
   "metadata": {},
   "outputs": [],
   "source": [
    "area_2 = circle_area(2)"
   ]
  },
  {
   "cell_type": "code",
   "execution_count": 22,
   "id": "e29b2be2",
   "metadata": {},
   "outputs": [
    {
     "name": "stdout",
     "output_type": "stream",
     "text": [
      "12.566370614359172\n",
      "None\n",
      "<class 'NoneType'>\n"
     ]
    }
   ],
   "source": [
    "x = circle_area(2)\n",
    "\n",
    "print(x)\n",
    "print(type(x))"
   ]
  },
  {
   "cell_type": "code",
   "execution_count": 24,
   "id": "fba7ad40",
   "metadata": {},
   "outputs": [],
   "source": [
    "def quad(a,b,c,x):\n",
    "    return a*x**2 + b*x + c \n",
    "\n",
    "res = quad(1,-7, 12, 1)"
   ]
  },
  {
   "cell_type": "code",
   "execution_count": 45,
   "id": "566f7809",
   "metadata": {},
   "outputs": [],
   "source": [
    "def divisible(n,m):\n",
    "    if m % n == 0:\n",
    "        return  True\n",
    "    else:\n",
    "        return False"
   ]
  },
  {
   "cell_type": "code",
   "execution_count": 32,
   "id": "fc61e9c3",
   "metadata": {},
   "outputs": [
    {
     "data": {
      "text/plain": [
       "True"
      ]
     },
     "execution_count": 32,
     "metadata": {},
     "output_type": "execute_result"
    }
   ],
   "source": [
    "divisible(4,2)"
   ]
  },
  {
   "cell_type": "code",
   "execution_count": 33,
   "id": "0f7714c8",
   "metadata": {},
   "outputs": [
    {
     "data": {
      "text/plain": [
       "False"
      ]
     },
     "execution_count": 33,
     "metadata": {},
     "output_type": "execute_result"
    }
   ],
   "source": [
    "divisible(5,3)"
   ]
  },
  {
   "cell_type": "code",
   "execution_count": 42,
   "id": "f6cb5db8",
   "metadata": {},
   "outputs": [
    {
     "name": "stdout",
     "output_type": "stream",
     "text": [
      "fizz\n",
      "shucks\n",
      "buzz\n",
      "fizzbuzz\n"
     ]
    }
   ],
   "source": [
    "def fb(n):\n",
    "    if n % 3 == 0 and n % 5 != 0:\n",
    "        return \"fizz\"\n",
    "    \n",
    "    if n % 5 == 0 and n % 3 != 0:\n",
    "        return \"buzz\"\n",
    "    \n",
    "    if n % 3 == 0 and n % 5 == 0:\n",
    "        return \"fizzbuzz\"\n",
    "    \n",
    "    if n % 5 != 0 and n % 3 !=0:\n",
    "        return \"shucks\"\n",
    "print(fb(6))\n",
    "print(fb(7))\n",
    "print(fb(10))\n",
    "print(fb(15))"
   ]
  },
  {
   "cell_type": "code",
   "execution_count": 49,
   "id": "d387bdec",
   "metadata": {},
   "outputs": [
    {
     "name": "stdout",
     "output_type": "stream",
     "text": [
      "True\n",
      "False\n",
      "True\n",
      "True\n"
     ]
    }
   ],
   "source": [
    "def sleep_in(weekday,vacation):\n",
    "    if (not weekday) or vacation:\n",
    "        return True\n",
    "    else:\n",
    "        return False\n",
    "print(sleep_in(True, True))\n",
    "print(sleep_in(True, False))\n",
    "print(sleep_in(False, True))\n",
    "print(sleep_in(False, False))"
   ]
  },
  {
   "cell_type": "code",
   "execution_count": 51,
   "id": "78e3f2c4",
   "metadata": {},
   "outputs": [
    {
     "name": "stdout",
     "output_type": "stream",
     "text": [
      "Give me an Exponent3\n",
      "3.0\n",
      "27.0\n"
     ]
    }
   ],
   "source": [
    "def get_exponent():\n",
    "    global exponent\n",
    "    exponent = float(input(\"Give me an Exponent\"))\n",
    "    print(exponent)\n",
    "    result = 3**exponent\n",
    "    print(result)\n",
    "    \n",
    "get_exponent()"
   ]
  },
  {
   "cell_type": "code",
   "execution_count": 52,
   "id": "4189ec58",
   "metadata": {},
   "outputs": [],
   "source": [
    "def display(a,b,c):\n",
    "    print(f'a is {a}')\n",
    "    print(f'b is {b}')\n",
    "    print(f'c is {c}')"
   ]
  },
  {
   "cell_type": "code",
   "execution_count": 53,
   "id": "55927e18",
   "metadata": {},
   "outputs": [
    {
     "name": "stdout",
     "output_type": "stream",
     "text": [
      "a is 1\n",
      "b is 2\n",
      "c is 3\n"
     ]
    }
   ],
   "source": [
    "display(1,2,3)"
   ]
  },
  {
   "cell_type": "code",
   "execution_count": 54,
   "id": "6100c689",
   "metadata": {},
   "outputs": [
    {
     "name": "stdout",
     "output_type": "stream",
     "text": [
      "a is 1\n",
      "b is 2\n",
      "c is 3\n"
     ]
    }
   ],
   "source": [
    "display(b =2, c = 3, a =1)"
   ]
  },
  {
   "cell_type": "code",
   "execution_count": 55,
   "id": "ee6f1d85",
   "metadata": {},
   "outputs": [
    {
     "name": "stdout",
     "output_type": "stream",
     "text": [
      "a is 5\n",
      "b is 3\n",
      "c is 4\n"
     ]
    }
   ],
   "source": [
    "display(5,c = 4, b = 3)"
   ]
  },
  {
   "cell_type": "code",
   "execution_count": 56,
   "id": "fe47c4fa",
   "metadata": {},
   "outputs": [
    {
     "ename": "SyntaxError",
     "evalue": "positional argument follows keyword argument (201143371.py, line 1)",
     "output_type": "error",
     "traceback": [
      "\u001b[1;36m  Cell \u001b[1;32mIn[56], line 1\u001b[1;36m\u001b[0m\n\u001b[1;33m    display(b = 3, c = 4, 5)\u001b[0m\n\u001b[1;37m                           ^\u001b[0m\n\u001b[1;31mSyntaxError\u001b[0m\u001b[1;31m:\u001b[0m positional argument follows keyword argument\n"
     ]
    }
   ],
   "source": [
    "display(b = 3, c = 4, 5)"
   ]
  },
  {
   "cell_type": "code",
   "execution_count": 57,
   "id": "f1602dbf",
   "metadata": {},
   "outputs": [
    {
     "ename": "TypeError",
     "evalue": "display() missing 1 required positional argument: 'c'",
     "output_type": "error",
     "traceback": [
      "\u001b[1;31m---------------------------------------------------------------------------\u001b[0m",
      "\u001b[1;31mTypeError\u001b[0m                                 Traceback (most recent call last)",
      "Cell \u001b[1;32mIn[57], line 1\u001b[0m\n\u001b[1;32m----> 1\u001b[0m \u001b[43mdisplay\u001b[49m\u001b[43m(\u001b[49m\u001b[43ma\u001b[49m\u001b[43m \u001b[49m\u001b[38;5;241;43m=\u001b[39;49m\u001b[38;5;241;43m1\u001b[39;49m\u001b[43m,\u001b[49m\u001b[43m \u001b[49m\u001b[43mb\u001b[49m\u001b[43m \u001b[49m\u001b[38;5;241;43m=\u001b[39;49m\u001b[38;5;241;43m2\u001b[39;49m\u001b[43m)\u001b[49m\n",
      "\u001b[1;31mTypeError\u001b[0m: display() missing 1 required positional argument: 'c'"
     ]
    }
   ],
   "source": [
    "display(a =1, b =2)"
   ]
  },
  {
   "cell_type": "code",
   "execution_count": 60,
   "id": "f66f34e5",
   "metadata": {},
   "outputs": [],
   "source": [
    "def display2(a,b,c = 6):\n",
    "    print(f'a is {a}')\n",
    "    print(f'b is {b}')\n",
    "    print(f'c is {c}')"
   ]
  },
  {
   "cell_type": "code",
   "execution_count": 61,
   "id": "9d2ae7d4",
   "metadata": {},
   "outputs": [
    {
     "name": "stdout",
     "output_type": "stream",
     "text": [
      "a is 2\n",
      "b is 1\n",
      "c is 6\n"
     ]
    }
   ],
   "source": [
    "display2(b =1, a =2)"
   ]
  },
  {
   "cell_type": "code",
   "execution_count": null,
   "id": "1e391399",
   "metadata": {},
   "outputs": [],
   "source": []
  }
 ],
 "metadata": {
  "kernelspec": {
   "display_name": "Python 3 (ipykernel)",
   "language": "python",
   "name": "python3"
  },
  "language_info": {
   "codemirror_mode": {
    "name": "ipython",
    "version": 3
   },
   "file_extension": ".py",
   "mimetype": "text/x-python",
   "name": "python",
   "nbconvert_exporter": "python",
   "pygments_lexer": "ipython3",
   "version": "3.11.3"
  }
 },
 "nbformat": 4,
 "nbformat_minor": 5
}
