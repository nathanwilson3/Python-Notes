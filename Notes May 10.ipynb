{
 "cells": [
  {
   "cell_type": "markdown",
   "id": "0016e057",
   "metadata": {},
   "source": [
    "## May 10 Notes\n",
    "\n",
    "I'm going to explore basic python."
   ]
  },
  {
   "cell_type": "code",
   "execution_count": 2,
   "id": "a9f626fd",
   "metadata": {},
   "outputs": [
    {
     "name": "stdout",
     "output_type": "stream",
     "text": [
      "6\n"
     ]
    }
   ],
   "source": [
    "x = 4\n",
    "y = 2\n",
    "z = x + y\n",
    "print(z)"
   ]
  },
  {
   "cell_type": "code",
   "execution_count": 6,
   "id": "8b0dca6f",
   "metadata": {},
   "outputs": [
    {
     "name": "stdout",
     "output_type": "stream",
     "text": [
      "36\n"
     ]
    }
   ],
   "source": [
    "w = z**2\n",
    "print(w)"
   ]
  },
  {
   "cell_type": "code",
   "execution_count": 7,
   "id": "1b7d85a4",
   "metadata": {},
   "outputs": [
    {
     "name": "stdout",
     "output_type": "stream",
     "text": [
      "this is a string\n",
      "This is also a string\n",
      "This string includes \"A quote inside a string\"\n"
     ]
    }
   ],
   "source": [
    "s = \"this is a string\"\n",
    "s1 = 'This is also a string'\n",
    "s2 = 'This string includes \"A quote inside a string\"'\n",
    "\n",
    "print(s)\n",
    "print(s1)\n",
    "print(s2)"
   ]
  },
  {
   "cell_type": "code",
   "execution_count": 8,
   "id": "9b41ff43",
   "metadata": {},
   "outputs": [
    {
     "name": "stdout",
     "output_type": "stream",
     "text": [
      "this is a stringThis is also a string\n"
     ]
    }
   ],
   "source": [
    "print(s, end = '')\n",
    "print(s1)"
   ]
  },
  {
   "cell_type": "code",
   "execution_count": 10,
   "id": "f1da4566",
   "metadata": {},
   "outputs": [
    {
     "name": "stdout",
     "output_type": "stream",
     "text": [
      "this is a string, This is also a string\n"
     ]
    }
   ],
   "source": [
    "print(s, end = ', ' )\n",
    "print(s1)"
   ]
  },
  {
   "cell_type": "code",
   "execution_count": 13,
   "id": "97388db1",
   "metadata": {},
   "outputs": [
    {
     "name": "stdout",
     "output_type": "stream",
     "text": [
      "Your wage rate is 20 .\n",
      "Your hours worked are 40 .\n",
      "Your earnings are 800 .\n"
     ]
    }
   ],
   "source": [
    "wage = 20\n",
    "hours = 40\n",
    "w = \"Your wage rate is\"\n",
    "h = \"Your hours worked are\"\n",
    "earnings = wage * hours\n",
    "e = \"Your earnings are\"\n",
    "p = \".\"\n",
    "\n",
    "print(w, wage, p)\n",
    "print(h, hours, p)\n",
    "print(e, earnings, p)"
   ]
  },
  {
   "cell_type": "code",
   "execution_count": 14,
   "id": "36ba3403",
   "metadata": {},
   "outputs": [
    {
     "name": "stdout",
     "output_type": "stream",
     "text": [
      "Your wage rate is 20 .\n"
     ]
    }
   ],
   "source": [
    "print(w, wage,p)"
   ]
  },
  {
   "cell_type": "code",
   "execution_count": 23,
   "id": "fadb5056",
   "metadata": {},
   "outputs": [
    {
     "name": "stdout",
     "output_type": "stream",
     "text": [
      "Your wage rate is 20.\n",
      "Your hours worked are 40.\n",
      "Your earnings are 800.\n"
     ]
    }
   ],
   "source": [
    "print(w, wage, end = '')\n",
    "print(p)\n",
    "print(h, hours, end = '')\n",
    "print(p)\n",
    "print(e, earnings, end = '')\n",
    "print(p)"
   ]
  },
  {
   "cell_type": "code",
   "execution_count": 25,
   "id": "ff839138",
   "metadata": {},
   "outputs": [
    {
     "ename": "SyntaxError",
     "evalue": "unterminated string literal (detected at line 1) (4153164816.py, line 1)",
     "output_type": "error",
     "traceback": [
      "\u001b[1;36m  Cell \u001b[1;32mIn[25], line 1\u001b[1;36m\u001b[0m\n\u001b[1;33m    \"I am your worst nightmare'\u001b[0m\n\u001b[1;37m    ^\u001b[0m\n\u001b[1;31mSyntaxError\u001b[0m\u001b[1;31m:\u001b[0m unterminated string literal (detected at line 1)\n"
     ]
    }
   ],
   "source": [
    "\"I am your worst nightmare'"
   ]
  },
  {
   "cell_type": "code",
   "execution_count": 27,
   "id": "9ce6bb6d",
   "metadata": {},
   "outputs": [
    {
     "ename": "TypeError",
     "evalue": "unsupported operand type(s) for ** or pow(): 'str' and 'int'",
     "output_type": "error",
     "traceback": [
      "\u001b[1;31m---------------------------------------------------------------------------\u001b[0m",
      "\u001b[1;31mTypeError\u001b[0m                                 Traceback (most recent call last)",
      "Cell \u001b[1;32mIn[27], line 2\u001b[0m\n\u001b[0;32m      1\u001b[0m x \u001b[38;5;241m=\u001b[39m \u001b[38;5;124m\"\u001b[39m\u001b[38;5;124m3\u001b[39m\u001b[38;5;124m\"\u001b[39m\n\u001b[1;32m----> 2\u001b[0m y \u001b[38;5;241m=\u001b[39m \u001b[43mx\u001b[49m\u001b[38;5;241;43m*\u001b[39;49m\u001b[38;5;241;43m*\u001b[39;49m\u001b[38;5;241;43m2\u001b[39;49m\n",
      "\u001b[1;31mTypeError\u001b[0m: unsupported operand type(s) for ** or pow(): 'str' and 'int'"
     ]
    }
   ],
   "source": [
    "x = \"3\"\n",
    "y = x**2"
   ]
  },
  {
   "cell_type": "code",
   "execution_count": 28,
   "id": "6b4aceab",
   "metadata": {},
   "outputs": [
    {
     "name": "stdout",
     "output_type": "stream",
     "text": [
      "55\n"
     ]
    }
   ],
   "source": [
    "wage = 15\n",
    "hours = 40\n",
    "earnings = wage + hours\n",
    "print(earnings)"
   ]
  },
  {
   "cell_type": "code",
   "execution_count": 29,
   "id": "bcdfc437",
   "metadata": {},
   "outputs": [
    {
     "name": "stdout",
     "output_type": "stream",
     "text": [
      "6\n",
      "6\n"
     ]
    }
   ],
   "source": [
    "x = 2\n",
    "y = 3 * x\n",
    "print(y)\n",
    "x = 3\n",
    "print(y)"
   ]
  },
  {
   "cell_type": "code",
   "execution_count": null,
   "id": "b9f3d8cb",
   "metadata": {},
   "outputs": [],
   "source": []
  }
 ],
 "metadata": {
  "kernelspec": {
   "display_name": "Python 3 (ipykernel)",
   "language": "python",
   "name": "python3"
  },
  "language_info": {
   "codemirror_mode": {
    "name": "ipython",
    "version": 3
   },
   "file_extension": ".py",
   "mimetype": "text/x-python",
   "name": "python",
   "nbconvert_exporter": "python",
   "pygments_lexer": "ipython3",
   "version": "3.11.3"
  }
 },
 "nbformat": 4,
 "nbformat_minor": 5
}
