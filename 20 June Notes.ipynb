{
 "cells": [
  {
   "cell_type": "code",
   "execution_count": 7,
   "id": "901b1de0",
   "metadata": {},
   "outputs": [
    {
     "name": "stdout",
     "output_type": "stream",
     "text": [
      "13035\n",
      "13035\n"
     ]
    }
   ],
   "source": [
    "count = 0\n",
    "lines = []\n",
    "fh = open(\"Pride and Prejudice.txt\", \"r\", encoding = \"utf-8\")\n",
    "for line in fh:\n",
    "    lines.append(line)\n",
    "    count = count + 1\n",
    "print(len(lines))\n",
    "print(count)\n",
    "fh.close()"
   ]
  },
  {
   "cell_type": "code",
   "execution_count": 8,
   "id": "fbb3d1a7",
   "metadata": {},
   "outputs": [
    {
     "name": "stdout",
     "output_type": "stream",
     "text": [
      "0\n"
     ]
    }
   ],
   "source": [
    "count_0 = 0\n",
    "for line in lines:\n",
    "    if len(line) == 0:\n",
    "        count_0 += 1\n",
    "print(count_0)"
   ]
  },
  {
   "cell_type": "code",
   "execution_count": 12,
   "id": "06adeffd",
   "metadata": {},
   "outputs": [
    {
     "name": "stdout",
     "output_type": "stream",
     "text": [
      "2314\n"
     ]
    }
   ],
   "source": [
    "count_1 = 0\n",
    "for line in lines:\n",
    "    if len(line) == 1:\n",
    "        count_1 += 1\n",
    "print(count_1)"
   ]
  },
  {
   "cell_type": "code",
   "execution_count": 13,
   "id": "c2fb2a9a",
   "metadata": {},
   "outputs": [
    {
     "name": "stdout",
     "output_type": "stream",
     "text": [
      "PRIDE\n",
      "AND\n",
      "PREJUDICE\n",
      "By\n",
      "Jane\n",
      "Austen\n",
      "Chapter\n",
      "1\n",
      "It\n",
      "is\n",
      "a\n",
      "truth\n",
      "universally\n",
      "acknowledged,\n",
      "that\n",
      "a\n",
      "single\n",
      "man\n",
      "in\n",
      "possession\n"
     ]
    }
   ],
   "source": [
    "words = []\n",
    "for line in lines:\n",
    "    lwords = line.split()\n",
    "    for word in lwords:\n",
    "        words.append(word)\n",
    "for i in range(20):\n",
    "    print(words[i])"
   ]
  },
  {
   "cell_type": "code",
   "execution_count": 14,
   "id": "9073517c",
   "metadata": {},
   "outputs": [
    {
     "name": "stdout",
     "output_type": "stream",
     "text": [
      "121567\n"
     ]
    }
   ],
   "source": [
    "print(len(words))"
   ]
  },
  {
   "cell_type": "code",
   "execution_count": 16,
   "id": "0088cb87",
   "metadata": {},
   "outputs": [
    {
     "name": "stdout",
     "output_type": "stream",
     "text": [
      "10721\n",
      "10721\n"
     ]
    }
   ],
   "source": [
    "count = 0\n",
    "lines3 = []\n",
    "fh = open(\"Pride and Prejudice.txt\",\"r\", encoding = \"utf-8\")\n",
    "for line in fh:\n",
    "    if len(line) > 1:\n",
    "        lines3.append(line)\n",
    "        count += 1\n",
    "print(len(lines3)) \n",
    "print(count)\n",
    "fh.close()"
   ]
  },
  {
   "cell_type": "code",
   "execution_count": 17,
   "id": "7fd6fc9d",
   "metadata": {},
   "outputs": [
    {
     "name": "stdout",
     "output_type": "stream",
     "text": [
      "52.534407364787114\n"
     ]
    }
   ],
   "source": [
    "total = 0\n",
    "for line in lines:\n",
    "    total = total + len(line)\n",
    "avg_length = total/len(lines)\n",
    "print(avg_length)"
   ]
  },
  {
   "cell_type": "code",
   "execution_count": 18,
   "id": "28620a60",
   "metadata": {},
   "outputs": [
    {
     "name": "stdout",
     "output_type": "stream",
     "text": [
      "63.65749463669434\n"
     ]
    }
   ],
   "source": [
    "total = 0\n",
    "for line in lines3:\n",
    "    total = total + len(line)\n",
    "avg_length = total/len(lines3)\n",
    "print(avg_length)"
   ]
  },
  {
   "cell_type": "code",
   "execution_count": 19,
   "id": "4a81f4c8",
   "metadata": {},
   "outputs": [
    {
     "name": "stdout",
     "output_type": "stream",
     "text": [
      "line 0\n",
      "\n",
      "\n",
      "line 1\n",
      "\n",
      "\n",
      "line 2\n",
      "\n",
      "\n"
     ]
    }
   ],
   "source": [
    "short_lines = [line for line in lines if len(line) == 1]\n",
    "\n",
    "for i in range(3):\n",
    "    print(\"line\", i)\n",
    "    print(short_lines[i])"
   ]
  },
  {
   "cell_type": "code",
   "execution_count": 20,
   "id": "f2ddde46",
   "metadata": {},
   "outputs": [
    {
     "name": "stdout",
     "output_type": "stream",
     "text": [
      "\n",
      " 10\n"
     ]
    }
   ],
   "source": [
    "for c in short_lines[0]:\n",
    "    print(c, ord(c))"
   ]
  },
  {
   "cell_type": "code",
   "execution_count": 21,
   "id": "f7e59323",
   "metadata": {},
   "outputs": [
    {
     "name": "stdout",
     "output_type": "stream",
     "text": [
      "13059\n"
     ]
    }
   ],
   "source": [
    "print(len(set(words)))"
   ]
  },
  {
   "cell_type": "code",
   "execution_count": 22,
   "id": "90bc46d5",
   "metadata": {},
   "outputs": [
    {
     "name": "stdout",
     "output_type": "stream",
     "text": [
      "9.309058886591624\n"
     ]
    }
   ],
   "source": [
    "print(len(words)/len(set(words)))"
   ]
  },
  {
   "cell_type": "code",
   "execution_count": 23,
   "id": "b9f0ef52",
   "metadata": {},
   "outputs": [
    {
     "name": "stdout",
     "output_type": "stream",
     "text": [
      "Number of ands is 3326\n",
      "Fraction of ands is 0.0273593985209802\n"
     ]
    }
   ],
   "source": [
    "count = 0\n",
    "for word in words:\n",
    "    if word.lower() == \"and\":\n",
    "        count += 1\n",
    "print(\"Number of ands is\",count)\n",
    "\n",
    "print(\"Fraction of ands is\", count/len(words))"
   ]
  },
  {
   "cell_type": "code",
   "execution_count": 24,
   "id": "f94fed6b",
   "metadata": {},
   "outputs": [
    {
     "name": "stdout",
     "output_type": "stream",
     "text": [
      "3240\n"
     ]
    }
   ],
   "source": [
    "count_dict = {}\n",
    "for word in words:\n",
    "    count_dict[word] = count_dict.get(word,0) + 1\n",
    "\n",
    "print(count_dict['and'])"
   ]
  },
  {
   "cell_type": "code",
   "execution_count": 25,
   "id": "624cb8a6",
   "metadata": {},
   "outputs": [
    {
     "name": "stdout",
     "output_type": "stream",
     "text": [
      "(1, \"'Ah!\")\n",
      "(1, \"'Bingley,\")\n",
      "(1, \"'Having\")\n",
      "(1, \"'I\")\n",
      "(1, \"'Keep\")\n",
      "(1, \"'Lady\")\n",
      "(1, \"'Lately,\")\n",
      "(1, \"'Lydia\")\n",
      "(1, \"'Mr.\")\n",
      "(1, \"'Oh!\")\n",
      "(1, \"'This\")\n",
      "(1, \"'Tis\")\n",
      "(1, \"'Yes,'\")\n",
      "(1, \"'_She_\")\n",
      "(1, \"'had\")\n",
      "(1, \"'violently\")\n",
      "(1, \"'you\")\n",
      "(1, '(Lady')\n",
      "(1, '(an')\n",
      "(1, '(by')\n",
      "(1, '(comparatively')\n",
      "(1, '(glancing')\n",
      "(1, '(if')\n",
      "(1, '(like')\n",
      "(1, '(most')\n",
      "(1, '(my')\n",
      "(1, '(unasked')\n",
      "(1, '(what')\n",
      "(1, '(who,')\n",
      "(1, '----')\n",
      "(1, '----shire,')\n",
      "(1, '1')\n",
      "(1, '10')\n",
      "(1, '11')\n",
      "(1, '12')\n",
      "(1, '13')\n",
      "(1, '14')\n",
      "(1, '15')\n",
      "(1, '15th')\n",
      "(1, '16')\n",
      "(1, '17')\n",
      "(1, '18')\n",
      "(1, '18th,')\n",
      "(1, '19')\n",
      "(1, '2')\n",
      "(1, '2.')\n",
      "(1, '20')\n",
      "(1, '21')\n",
      "(1, '22')\n",
      "(1, '23')\n"
     ]
    }
   ],
   "source": [
    "items_swapped = []\n",
    "items = count_dict.items()\n",
    "for word, count in items:\n",
    "    items_swapped.append((count,word))\n",
    "    \n",
    "sorted_swapped = sorted(items_swapped)\n",
    "\n",
    "for i in range(50):\n",
    "    print(sorted_swapped[i])"
   ]
  },
  {
   "cell_type": "code",
   "execution_count": null,
   "id": "b5c2ebc9",
   "metadata": {},
   "outputs": [],
   "source": []
  }
 ],
 "metadata": {
  "kernelspec": {
   "display_name": "Python 3 (ipykernel)",
   "language": "python",
   "name": "python3"
  },
  "language_info": {
   "codemirror_mode": {
    "name": "ipython",
    "version": 3
   },
   "file_extension": ".py",
   "mimetype": "text/x-python",
   "name": "python",
   "nbconvert_exporter": "python",
   "pygments_lexer": "ipython3",
   "version": "3.11.3"
  }
 },
 "nbformat": 4,
 "nbformat_minor": 5
}
